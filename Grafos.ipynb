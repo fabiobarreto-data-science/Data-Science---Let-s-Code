{
 "cells": [
  {
   "cell_type": "markdown",
   "metadata": {},
   "source": [
    "IMPLEMENTANDO GRAFOS"
   ]
  },
  {
   "cell_type": "code",
   "execution_count": 13,
   "metadata": {},
   "outputs": [],
   "source": [
    "lista_adjacencia = {\n",
    "    \"1\": [2, 5],\n",
    "    \"2\": [1, 3, 5],\n",
    "    \"3\": [2, 4],\n",
    "    \"4\": [3, 5, 6],\n",
    "    \"5\": [1, 2, 4],\n",
    "    \"6\": [4]\n",
    "}"
   ]
  },
  {
   "cell_type": "code",
   "execution_count": 18,
   "metadata": {},
   "outputs": [
    {
     "data": {
      "text/plain": [
       "{'1': [2, 5],\n",
       " '2': [1, 3, 5],\n",
       " '3': [2, 4],\n",
       " '4': [3, 5, 6],\n",
       " '5': [1, 2, 4],\n",
       " '6': [4]}"
      ]
     },
     "execution_count": 18,
     "metadata": {},
     "output_type": "execute_result"
    }
   ],
   "source": [
    "lista_adjacencia"
   ]
  },
  {
   "cell_type": "code",
   "execution_count": 23,
   "metadata": {},
   "outputs": [
    {
     "name": "stdout",
     "output_type": "stream",
     "text": [
      "[2, 4]\n"
     ]
    }
   ],
   "source": [
    "for num in lista_adjacencia:\n",
    "    if num == \"3\":\n",
    "        print(lista_adjacencia[num])\n"
   ]
  },
  {
   "cell_type": "code",
   "execution_count": 26,
   "metadata": {},
   "outputs": [
    {
     "data": {
      "text/plain": [
       "True"
      ]
     },
     "execution_count": 26,
     "metadata": {},
     "output_type": "execute_result"
    }
   ],
   "source": [
    "4 in lista_adjacencia[\"5\"]"
   ]
  },
  {
   "cell_type": "code",
   "execution_count": 50,
   "metadata": {},
   "outputs": [
    {
     "data": {
      "text/plain": [
       "False"
      ]
     },
     "execution_count": 50,
     "metadata": {},
     "output_type": "execute_result"
    }
   ],
   "source": [
    "3 in lista_adjacencia[\"5\"]"
   ]
  },
  {
   "cell_type": "code",
   "execution_count": 54,
   "metadata": {},
   "outputs": [
    {
     "data": {
      "text/plain": [
       "1"
      ]
     },
     "execution_count": 54,
     "metadata": {},
     "output_type": "execute_result"
    }
   ],
   "source": [
    "a = {\"chave1\": {\"chave2\": 1}}\n",
    "a[\"chave1\"][\"chave2\"]"
   ]
  },
  {
   "cell_type": "code",
   "execution_count": 68,
   "metadata": {},
   "outputs": [],
   "source": [
    "matriz_adjacencia = {\n",
    "    \"1\": {\"2\": 1, \"5\": 1}, \n",
    "    \"2\": {\"1\": 1, \"3\": 1, \"5\": 1},\n",
    "    \"3\": {\"2\": 1, \"4\": 1},\n",
    "    \"4\": {\"3\": 1, \"5\": 1, \"6\": 1},\n",
    "    \"5\": {\"1\": 1, \"2\": 1, \"4\": 1},\n",
    "    \"6\": {\"4\": 1}\n",
    "}"
   ]
  },
  {
   "cell_type": "code",
   "execution_count": 97,
   "metadata": {},
   "outputs": [
    {
     "name": "stdout",
     "output_type": "stream",
     "text": [
      "    1 2 3 4 5 6 \n",
      "   _ _ _ _ _ _ _ \n",
      "1 | 0 1 0 0 1 0 \n",
      "2 | 1 0 1 0 1 0 \n",
      "3 | 0 1 0 1 0 0 \n",
      "4 | 0 0 1 0 1 1 \n",
      "5 | 1 1 0 1 0 0 \n",
      "6 | 0 0 0 1 0 0 \n"
     ]
    }
   ],
   "source": [
    "linha_cabecalho = \"    \"\n",
    "for no in matriz_adjacencia:\n",
    "    linha_cabecalho = linha_cabecalho + no + \" \"\n",
    "print(linha_cabecalho)\n",
    "print(\"   _ _ _ _ _ _ _ \")\n",
    "for no1 in matriz_adjacencia:\n",
    "    linha = no1 + \" | \"\n",
    "    for no2 in matriz_adjacencia:\n",
    "        linha = linha + str(matriz_adjacencia[no1].get(no2, 0)) + \" \"\n",
    "    print(linha)"
   ]
  },
  {
   "cell_type": "code",
   "execution_count": 64,
   "metadata": {},
   "outputs": [
    {
     "data": {
      "text/plain": [
       "1"
      ]
     },
     "execution_count": 64,
     "metadata": {},
     "output_type": "execute_result"
    }
   ],
   "source": [
    "matriz_adjacencia[\"3\"][\"4\"]"
   ]
  },
  {
   "cell_type": "code",
   "execution_count": 66,
   "metadata": {},
   "outputs": [
    {
     "data": {
      "text/plain": [
       "{'1': 1, '2': 1, '4': 1}"
      ]
     },
     "execution_count": 66,
     "metadata": {},
     "output_type": "execute_result"
    }
   ],
   "source": [
    "matriz_adjacencia.get(\"5\")  # Função nova"
   ]
  },
  {
   "cell_type": "code",
   "execution_count": 67,
   "metadata": {},
   "outputs": [
    {
     "data": {
      "text/plain": [
       "1"
      ]
     },
     "execution_count": 67,
     "metadata": {},
     "output_type": "execute_result"
    }
   ],
   "source": [
    "matriz_adjacencia[\"1\"].get(\"2\")"
   ]
  },
  {
   "cell_type": "code",
   "execution_count": 72,
   "metadata": {},
   "outputs": [],
   "source": [
    "import numpy as np"
   ]
  },
  {
   "cell_type": "code",
   "execution_count": 99,
   "metadata": {},
   "outputs": [
    {
     "data": {
      "text/plain": [
       "array([[0., 0., 0., 0., 0., 0.],\n",
       "       [0., 0., 0., 0., 0., 0.],\n",
       "       [0., 0., 0., 0., 0., 0.],\n",
       "       [0., 0., 0., 0., 0., 0.],\n",
       "       [0., 0., 0., 0., 0., 0.],\n",
       "       [0., 0., 0., 0., 0., 0.]])"
      ]
     },
     "execution_count": 99,
     "metadata": {},
     "output_type": "execute_result"
    }
   ],
   "source": [
    "np.zeros((6, 6))"
   ]
  },
  {
   "cell_type": "code",
   "execution_count": 112,
   "metadata": {},
   "outputs": [],
   "source": [
    "matriz_adjacencia_np = np.zeros((6, 6))\n",
    "matriz_adjacencia_np[0, [1, 4]] = 1\n",
    "matriz_adjacencia_np[1, [0, 2, 4]] = 1\n",
    "matriz_adjacencia_np[2, [1, 3]] = 1\n",
    "matriz_adjacencia_np[3, [2, 4, 5]] = 1\n",
    "matriz_adjacencia_np[4, [0, 1, 3]] = 1\n",
    "matriz_adjacencia_np[5, [3]] = 1"
   ]
  },
  {
   "cell_type": "code",
   "execution_count": 113,
   "metadata": {},
   "outputs": [
    {
     "data": {
      "text/plain": [
       "array([[0., 1., 0., 0., 1., 0.],\n",
       "       [1., 0., 1., 0., 1., 0.],\n",
       "       [0., 1., 0., 1., 0., 0.],\n",
       "       [0., 0., 1., 0., 1., 1.],\n",
       "       [1., 1., 0., 1., 0., 0.],\n",
       "       [0., 0., 0., 1., 0., 0.]])"
      ]
     },
     "execution_count": 113,
     "metadata": {},
     "output_type": "execute_result"
    }
   ],
   "source": [
    "matriz_adjacencia_np"
   ]
  },
  {
   "cell_type": "markdown",
   "metadata": {},
   "source": [
    "IMPLEMENTAÇÃO"
   ]
  },
  {
   "cell_type": "code",
   "execution_count": 138,
   "metadata": {},
   "outputs": [],
   "source": [
    "class Grafo():\n",
    "    def __init__(self):\n",
    "        self.matriz_adjacencia = {}  # Inicia como um dicionário zavio pq ainda não tem elementos\n",
    "    \n",
    "    def adiciona_vertices(self, numero):\n",
    "        self.matriz_adjacencia[numero] = {}\n",
    "        \n",
    "    def conecta_vertices(self, v_origem, v_destino, peso=1):\n",
    "        self.matriz_adjacencia[v_origem][v_destino] = peso\n",
    "        self.matriz_adjacencia[v_destino][v_origem] = peso"
   ]
  },
  {
   "cell_type": "code",
   "execution_count": 139,
   "metadata": {},
   "outputs": [],
   "source": [
    "meu_grafo = Grafo()"
   ]
  },
  {
   "cell_type": "code",
   "execution_count": 140,
   "metadata": {},
   "outputs": [
    {
     "data": {
      "text/plain": [
       "{}"
      ]
     },
     "execution_count": 140,
     "metadata": {},
     "output_type": "execute_result"
    }
   ],
   "source": [
    "meu_grafo.matriz_adjacencia"
   ]
  },
  {
   "cell_type": "code",
   "execution_count": 141,
   "metadata": {},
   "outputs": [],
   "source": [
    "meu_grafo.adiciona_vertices(1)\n",
    "meu_grafo.adiciona_vertices(2)\n",
    "meu_grafo.adiciona_vertices(3)\n",
    "meu_grafo.adiciona_vertices(4)\n",
    "meu_grafo.adiciona_vertices(5)\n",
    "meu_grafo.adiciona_vertices(6)"
   ]
  },
  {
   "cell_type": "code",
   "execution_count": 142,
   "metadata": {},
   "outputs": [
    {
     "data": {
      "text/plain": [
       "{1: {}, 2: {}, 3: {}, 4: {}, 5: {}, 6: {}}"
      ]
     },
     "execution_count": 142,
     "metadata": {},
     "output_type": "execute_result"
    }
   ],
   "source": [
    "meu_grafo.matriz_adjacencia"
   ]
  },
  {
   "cell_type": "code",
   "execution_count": 155,
   "metadata": {},
   "outputs": [],
   "source": [
    "meu_grafo.conecta_vertices(1, 2)\n",
    "meu_grafo.conecta_vertices(1, 5)\n",
    "meu_grafo.conecta_vertices(2, 3)\n",
    "meu_grafo.conecta_vertices(2, 5)\n",
    "meu_grafo.conecta_vertices(3, 2)\n",
    "meu_grafo.conecta_vertices(3, 4)\n",
    "meu_grafo.conecta_vertices(4, 3)\n",
    "meu_grafo.conecta_vertices(4, 5)\n",
    "meu_grafo.conecta_vertices(4, 6)\n",
    "meu_grafo.conecta_vertices(5, 1)\n",
    "meu_grafo.conecta_vertices(5, 2)\n",
    "meu_grafo.conecta_vertices(5, 4)\n",
    "meu_grafo.conecta_vertices(6, 4)"
   ]
  },
  {
   "cell_type": "code",
   "execution_count": 157,
   "metadata": {},
   "outputs": [
    {
     "data": {
      "text/plain": [
       "{1: {2: 1, 5: 1},\n",
       " 2: {1: 1, 3: 1, 5: 1},\n",
       " 3: {2: 1, 4: 1},\n",
       " 4: {3: 1, 5: 1, 6: 1},\n",
       " 5: {1: 1, 2: 1, 4: 1},\n",
       " 6: {4: 1}}"
      ]
     },
     "execution_count": 157,
     "metadata": {},
     "output_type": "execute_result"
    }
   ],
   "source": [
    "meu_grafo.matriz_adjacencia"
   ]
  },
  {
   "cell_type": "code",
   "execution_count": 162,
   "metadata": {},
   "outputs": [
    {
     "data": {
      "text/plain": [
       "{2: 1, 5: 1}"
      ]
     },
     "execution_count": 162,
     "metadata": {},
     "output_type": "execute_result"
    }
   ],
   "source": [
    "meu_grafo.matriz_adjacencia[1]"
   ]
  },
  {
   "cell_type": "code",
   "execution_count": 165,
   "metadata": {},
   "outputs": [],
   "source": [
    "meu_grafo_inicio = Grafo()\n",
    "meu_grafo_inicio.matriz_adjacencia = matriz_adjacencia"
   ]
  },
  {
   "cell_type": "code",
   "execution_count": 167,
   "metadata": {},
   "outputs": [
    {
     "data": {
      "text/plain": [
       "{'1': {'2': 1, '5': 1},\n",
       " '2': {'1': 1, '3': 1, '5': 1},\n",
       " '3': {'2': 1, '4': 1},\n",
       " '4': {'3': 1, '5': 1, '6': 1},\n",
       " '5': {'1': 1, '2': 1, '4': 1},\n",
       " '6': {'4': 1}}"
      ]
     },
     "execution_count": 167,
     "metadata": {},
     "output_type": "execute_result"
    }
   ],
   "source": [
    "meu_grafo_inicio.matriz_adjacencia"
   ]
  }
 ],
 "metadata": {
  "kernelspec": {
   "display_name": "Python 3",
   "language": "python",
   "name": "python3"
  },
  "language_info": {
   "codemirror_mode": {
    "name": "ipython",
    "version": 3
   },
   "file_extension": ".py",
   "mimetype": "text/x-python",
   "name": "python",
   "nbconvert_exporter": "python",
   "pygments_lexer": "ipython3",
   "version": "3.8.5"
  }
 },
 "nbformat": 4,
 "nbformat_minor": 4
}
