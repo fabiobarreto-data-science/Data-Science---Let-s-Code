{
 "cells": [
  {
   "cell_type": "code",
   "execution_count": 2,
   "metadata": {},
   "outputs": [],
   "source": [
    "\"\"\"Tempo de execução\"\"\"\n",
    "def soma(lista):          # Lista de tamanho n\n",
    "    soma = 0              # Roda 1x\n",
    "    for el in lista:      # Roda n vezes + 1\n",
    "        soma = soma + el  # Roda n vezes\n",
    "    return soma           # Roda 1x"
   ]
  },
  {
   "cell_type": "markdown",
   "metadata": {},
   "source": [
    "T é a nossa função do tempo\n",
    "c é o custo de cada instrução    T(n) = c(1 + (n + 1) + n + 1) = c(2n + 3)"
   ]
  },
  {
   "cell_type": "code",
   "execution_count": 3,
   "metadata": {},
   "outputs": [],
   "source": [
    "\"\"\" Imagine que temos uma Matriz quadrada n*n\"\"\"\n",
    "def imprimir_matriz(matriz):\n",
    "    for linha in matriz: # (n+1)\n",
    "        for j in linha:  # n * (n+1)\n",
    "            print(j)     # n * n"
   ]
  },
  {
   "cell_type": "markdown",
   "metadata": {},
   "source": [
    "T(n)=c((n+1) + n² + n + n²) = c(2n²+2n+1)"
   ]
  },
  {
   "cell_type": "code",
   "execution_count": 4,
   "metadata": {},
   "outputs": [],
   "source": [
    "import seaborn as sns\n",
    "%matplotlib inline"
   ]
  },
  {
   "cell_type": "code",
   "execution_count": 5,
   "metadata": {},
   "outputs": [],
   "source": [
    "func1 = lambda x: 2 * x + 3\n",
    "func2 = lambda x: x\n",
    "func3 = lambda x: 2*x**2 + 2*x \n",
    "resultados1 = []\n",
    "resultados2 = []\n",
    "resultados3 = []\n",
    "\n",
    "for i in range(0, 1000000, 100):\n",
    "    resultados1.append(func1(i))\n",
    "    resultados2.append(func2(i))\n",
    "    resultados3.append(func3(i))"
   ]
  },
  {
   "cell_type": "code",
   "execution_count": 6,
   "metadata": {},
   "outputs": [
    {
     "data": {
      "text/plain": [
       "<AxesSubplot:>"
      ]
     },
     "execution_count": 6,
     "metadata": {},
     "output_type": "execute_result"
    },
    {
     "data": {
      "image/png": "[encoded data removed]",
      "text/plain": [
       "<Figure size 432x288 with 1 Axes>"
      ]
     },
     "metadata": {
      "needs_background": "light"
     },
     "output_type": "display_data"
    }
   ],
   "source": [
    "sns.lineplot(x=range(0, 1000000, 100), y=resultados1, label='soma completa')\n",
    "sns.lineplot(x=range(0, 1000000, 100), y=resultados2, label='soma n')\n",
    "sns.lineplot(x=range(0, 1000000, 100), y=resultados3, label='exibe matriz')"
   ]
  },
  {
   "cell_type": "code",
   "execution_count": 7,
   "metadata": {},
   "outputs": [],
   "source": [
    "def soma(lista):                 # Lista de tamanho n\n",
    "    lista_auxiliar = []  \n",
    "    soma = 0                     # Roda 1x\n",
    "    for i in range(len(lista)):  # Roda n vezes + 1\n",
    "        lista_auxiliar.append(soma)\n",
    "        soma = soma + lista[i]         # Roda n vezes\n",
    "    lista_auxiliar.append(soma)\n",
    "    return lista_auxiliar                 # Roda 1x"
   ]
  },
  {
   "cell_type": "code",
   "execution_count": 8,
   "metadata": {},
   "outputs": [
    {
     "data": {
      "text/plain": [
       "[0, 1, 3, 6, 10]"
      ]
     },
     "execution_count": 8,
     "metadata": {},
     "output_type": "execute_result"
    }
   ],
   "source": [
    "soma([1, 2, 3, 4])"
   ]
  },
  {
   "cell_type": "markdown",
   "metadata": {},
   "source": [
    "ORDENAÇÃO\n",
    "\n",
    "BubbleSort\n",
    "\n",
    "MergeSort\n",
    "\n",
    "Busca linear"
   ]
  },
  {
   "cell_type": "code",
   "execution_count": 10,
   "metadata": {},
   "outputs": [
    {
     "data": {
      "text/plain": [
       "[1, 2, 3, 4, 5, 6, 7, 8]"
      ]
     },
     "execution_count": 10,
     "metadata": {},
     "output_type": "execute_result"
    }
   ],
   "source": [
    "lista = [4, 7, 3, 8, 2, 1, 5, 6]\n",
    "\n",
    "def bubble_sort(lista):\n",
    "    for i in range(len(lista) - 1):\n",
    "        for j in range(len(lista) -1 - i):\n",
    "            if lista[j] > lista[j + 1]:\n",
    "                lista[j], lista[j + 1] = lista[j + 1], lista[j]\n",
    "    return lista\n",
    "\n",
    "\n",
    "bubble_sort(lista)"
   ]
  },
  {
   "cell_type": "code",
   "execution_count": 11,
   "metadata": {},
   "outputs": [],
   "source": [
    "import random"
   ]
  },
  {
   "cell_type": "code",
   "execution_count": 12,
   "metadata": {},
   "outputs": [
    {
     "name": "stdout",
     "output_type": "stream",
     "text": [
      "[0, 1, 2, 3, 4, 5, 6, 7]\n",
      "[0, 0, 1, 1, 2, 2, 4, 4, 5, 5, 5, 5, 6, 6, 7, 7, 8, 8, 9, 10, 11, 14, 14, 14, 15, 15, 16, 17, 17, 17]\n"
     ]
    }
   ],
   "source": [
    "print(bubble_sort([1, 2, 3, 0, 4, 7, 5, 6]))\n",
    "print(bubble_sort([random.randrange(20) for i in range(30)]))"
   ]
  },
  {
   "cell_type": "markdown",
   "metadata": {},
   "source": [
    "MERGE SORT n*logn"
   ]
  },
  {
   "cell_type": "code",
   "execution_count": 14,
   "metadata": {},
   "outputs": [
    {
     "name": "stdout",
     "output_type": "stream",
     "text": [
      "[1, 2, 3, 4, 5, 6]\n"
     ]
    }
   ],
   "source": [
    "def mergeSort(lista, inicio, fim):\n",
    "    # Continuidade\n",
    "    if not (fim - inicio <= 1):\n",
    "        meio = (inicio + fim) // 2\n",
    "\n",
    "        # Chamando lado esquerdo\n",
    "        mergeSort(lista, inicio, meio)\n",
    "\n",
    "        # Chamando lado direito\n",
    "        mergeSort(lista, meio, fim)\n",
    "\n",
    "        merge(lista, inicio, meio, fim)\n",
    "\n",
    "        return lista\n",
    "\n",
    "\n",
    "def merge(lista, inicio, meio, fim):\n",
    "    lista_esquerda = lista[inicio: meio]\n",
    "    lista_direita = lista[meio: fim]\n",
    "    i = 0\n",
    "    j = 0\n",
    "    for list_index in range(inicio, fim):\n",
    "        if i >= len(lista_esquerda):\n",
    "            lista[list_index] = lista_direita[j]\n",
    "            j = j + 1\n",
    "        elif j >= len(lista_direita):\n",
    "            lista[list_index] = lista_esquerda[i]\n",
    "            i = i + 1\n",
    "        elif lista_esquerda[i] <= lista_direita[j]:\n",
    "            lista[list_index] = lista_esquerda[i]\n",
    "            i = i + 1\n",
    "        elif lista_direita[j] < lista_esquerda[i]:\n",
    "            lista[list_index] = lista_direita[j]\n",
    "            j = j + 1\n",
    "\n",
    "\n",
    "print(mergeSort([3, 6, 1, 5, 4, 2], inicio=0, fim=len([3, 6, 1, 5, 4, 2])))\n"
   ]
  },
  {
   "cell_type": "markdown",
   "metadata": {},
   "source": [
    "BUSCA LINEAR"
   ]
  },
  {
   "cell_type": "code",
   "execution_count": 15,
   "metadata": {},
   "outputs": [
    {
     "name": "stdout",
     "output_type": "stream",
     "text": [
      "2\n"
     ]
    }
   ],
   "source": [
    "def busca_linear(lista, elemento):\n",
    "    found = False\n",
    "    for i in range(len(lista)):\n",
    "        if elemento == lista[i]:\n",
    "            found = True\n",
    "            break\n",
    "    if not found:\n",
    "        i = None\n",
    "    return i\n",
    "\n",
    "\n",
    "print(busca_linear([5, 2, 8], 8))"
   ]
  }
 ],
 "metadata": {
  "kernelspec": {
   "display_name": "Python 3",
   "language": "python",
   "name": "python3"
  },
  "language_info": {
   "codemirror_mode": {
    "name": "ipython",
    "version": 3
   },
   "file_extension": ".py",
   "mimetype": "text/x-python",
   "name": "python",
   "nbconvert_exporter": "python",
   "pygments_lexer": "ipython3",
   "version": "3.8.5"
  }
 },
 "nbformat": 4,
 "nbformat_minor": 4
}
