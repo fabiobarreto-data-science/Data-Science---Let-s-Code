{
 "cells": [
  {
   "cell_type": "markdown",
   "metadata": {},
   "source": [
    "**REGRESSÃO LOGÍSTICA**"
   ]
  },
  {
   "cell_type": "code",
   "execution_count": 2,
   "metadata": {},
   "outputs": [],
   "source": [
    "import pandas as pd\n",
    "import numpy as np\n",
    "import matplotlib.pyplot as plt\n",
    "import seaborn as sns\n",
    "\n",
    "%matplotlib inline"
   ]
  },
  {
   "cell_type": "code",
   "execution_count": 3,
   "metadata": {},
   "outputs": [],
   "source": [
    "df = pd.read_csv(\"..\\\\datasets\\\\advertising.csv\")"
   ]
  },
  {
   "cell_type": "code",
   "execution_count": 4,
   "metadata": {},
   "outputs": [
    {
     "data": {
      "text/html": [
       "<div>\n",
       "<style scoped>\n",
       "    .dataframe tbody tr th:only-of-type {\n",
       "        vertical-align: middle;\n",
       "    }\n",
       "\n",
       "    .dataframe tbody tr th {\n",
       "        vertical-align: top;\n",
       "    }\n",
       "\n",
       "    .dataframe thead th {\n",
       "        text-align: right;\n",
       "    }\n",
       "</style>\n",
       "<table border=\"1\" class=\"dataframe\">\n",
       "  <thead>\n",
       "    <tr style=\"text-align: right;\">\n",
       "      <th></th>\n",
       "      <th>Daily Time Spent on Site</th>\n",
       "      <th>Age</th>\n",
       "      <th>Area Income</th>\n",
       "      <th>Daily Internet Usage</th>\n",
       "      <th>Ad Topic Line</th>\n",
       "      <th>City</th>\n",
       "      <th>Male</th>\n",
       "      <th>Country</th>\n",
       "      <th>Timestamp</th>\n",
       "      <th>Clicked on Ad</th>\n",
       "    </tr>\n",
       "  </thead>\n",
       "  <tbody>\n",
       "    <tr>\n",
       "      <th>0</th>\n",
       "      <td>68.95</td>\n",
       "      <td>35</td>\n",
       "      <td>61833.90</td>\n",
       "      <td>256.09</td>\n",
       "      <td>Cloned 5thgeneration orchestration</td>\n",
       "      <td>Wrightburgh</td>\n",
       "      <td>0</td>\n",
       "      <td>Tunisia</td>\n",
       "      <td>2016-03-27 00:53:11</td>\n",
       "      <td>0</td>\n",
       "    </tr>\n",
       "    <tr>\n",
       "      <th>1</th>\n",
       "      <td>80.23</td>\n",
       "      <td>31</td>\n",
       "      <td>68441.85</td>\n",
       "      <td>193.77</td>\n",
       "      <td>Monitored national standardization</td>\n",
       "      <td>West Jodi</td>\n",
       "      <td>1</td>\n",
       "      <td>Nauru</td>\n",
       "      <td>2016-04-04 01:39:02</td>\n",
       "      <td>0</td>\n",
       "    </tr>\n",
       "    <tr>\n",
       "      <th>2</th>\n",
       "      <td>69.47</td>\n",
       "      <td>26</td>\n",
       "      <td>59785.94</td>\n",
       "      <td>236.50</td>\n",
       "      <td>Organic bottom-line service-desk</td>\n",
       "      <td>Davidton</td>\n",
       "      <td>0</td>\n",
       "      <td>San Marino</td>\n",
       "      <td>2016-03-13 20:35:42</td>\n",
       "      <td>0</td>\n",
       "    </tr>\n",
       "    <tr>\n",
       "      <th>3</th>\n",
       "      <td>74.15</td>\n",
       "      <td>29</td>\n",
       "      <td>54806.18</td>\n",
       "      <td>245.89</td>\n",
       "      <td>Triple-buffered reciprocal time-frame</td>\n",
       "      <td>West Terrifurt</td>\n",
       "      <td>1</td>\n",
       "      <td>Italy</td>\n",
       "      <td>2016-01-10 02:31:19</td>\n",
       "      <td>0</td>\n",
       "    </tr>\n",
       "    <tr>\n",
       "      <th>4</th>\n",
       "      <td>68.37</td>\n",
       "      <td>35</td>\n",
       "      <td>73889.99</td>\n",
       "      <td>225.58</td>\n",
       "      <td>Robust logistical utilization</td>\n",
       "      <td>South Manuel</td>\n",
       "      <td>0</td>\n",
       "      <td>Iceland</td>\n",
       "      <td>2016-06-03 03:36:18</td>\n",
       "      <td>0</td>\n",
       "    </tr>\n",
       "  </tbody>\n",
       "</table>\n",
       "</div>"
      ],
      "text/plain": [
       "   Daily Time Spent on Site  Age  Area Income  Daily Internet Usage  \\\n",
       "0                     68.95   35     61833.90                256.09   \n",
       "1                     80.23   31     68441.85                193.77   \n",
       "2                     69.47   26     59785.94                236.50   \n",
       "3                     74.15   29     54806.18                245.89   \n",
       "4                     68.37   35     73889.99                225.58   \n",
       "\n",
       "                           Ad Topic Line            City  Male     Country  \\\n",
       "0     Cloned 5thgeneration orchestration     Wrightburgh     0     Tunisia   \n",
       "1     Monitored national standardization       West Jodi     1       Nauru   \n",
       "2       Organic bottom-line service-desk        Davidton     0  San Marino   \n",
       "3  Triple-buffered reciprocal time-frame  West Terrifurt     1       Italy   \n",
       "4          Robust logistical utilization    South Manuel     0     Iceland   \n",
       "\n",
       "             Timestamp  Clicked on Ad  \n",
       "0  2016-03-27 00:53:11              0  \n",
       "1  2016-04-04 01:39:02              0  \n",
       "2  2016-03-13 20:35:42              0  \n",
       "3  2016-01-10 02:31:19              0  \n",
       "4  2016-06-03 03:36:18              0  "
      ]
     },
     "execution_count": 4,
     "metadata": {},
     "output_type": "execute_result"
    }
   ],
   "source": [
    "df.head()"
   ]
  },
  {
   "cell_type": "code",
   "execution_count": 5,
   "metadata": {},
   "outputs": [
    {
     "data": {
      "text/plain": [
       "<AxesSubplot:xlabel='Clicked on Ad', ylabel='Count'>"
      ]
     },
     "execution_count": 5,
     "metadata": {},
     "output_type": "execute_result"
    },
    {
     "data": {
      "image/png": "[encoded data removed]",
      "text/plain": [
       "<Figure size 432x288 with 1 Axes>"
      ]
     },
     "metadata": {
      "needs_background": "light"
     },
     "output_type": "display_data"
    }
   ],
   "source": [
    "sns.histplot(df, x=\"Clicked on Ad\")"
   ]
  },
  {
   "cell_type": "code",
   "execution_count": 6,
   "metadata": {},
   "outputs": [
    {
     "data": {
      "text/plain": [
       "0    500\n",
       "1    500\n",
       "Name: Clicked on Ad, dtype: int64"
      ]
     },
     "execution_count": 6,
     "metadata": {},
     "output_type": "execute_result"
    }
   ],
   "source": [
    "# Número de pessoas que clicaram ou não clicaram\n",
    "df[\"Clicked on Ad\"].value_counts()"
   ]
  },
  {
   "cell_type": "code",
   "execution_count": 7,
   "metadata": {},
   "outputs": [
    {
     "data": {
      "text/plain": [
       "0    0.5\n",
       "1    0.5\n",
       "Name: Clicked on Ad, dtype: float64"
      ]
     },
     "execution_count": 7,
     "metadata": {},
     "output_type": "execute_result"
    }
   ],
   "source": [
    "df[\"Clicked on Ad\"].value_counts(normalize=True)"
   ]
  },
  {
   "cell_type": "code",
   "execution_count": 8,
   "metadata": {},
   "outputs": [],
   "source": [
    "df_model = df.select_dtypes(include = np.number)"
   ]
  },
  {
   "cell_type": "code",
   "execution_count": 9,
   "metadata": {},
   "outputs": [
    {
     "data": {
      "text/html": [
       "<div>\n",
       "<style scoped>\n",
       "    .dataframe tbody tr th:only-of-type {\n",
       "        vertical-align: middle;\n",
       "    }\n",
       "\n",
       "    .dataframe tbody tr th {\n",
       "        vertical-align: top;\n",
       "    }\n",
       "\n",
       "    .dataframe thead th {\n",
       "        text-align: right;\n",
       "    }\n",
       "</style>\n",
       "<table border=\"1\" class=\"dataframe\">\n",
       "  <thead>\n",
       "    <tr style=\"text-align: right;\">\n",
       "      <th></th>\n",
       "      <th>Daily Time Spent on Site</th>\n",
       "      <th>Age</th>\n",
       "      <th>Area Income</th>\n",
       "      <th>Daily Internet Usage</th>\n",
       "      <th>Male</th>\n",
       "      <th>Clicked on Ad</th>\n",
       "    </tr>\n",
       "  </thead>\n",
       "  <tbody>\n",
       "    <tr>\n",
       "      <th>0</th>\n",
       "      <td>68.95</td>\n",
       "      <td>35</td>\n",
       "      <td>61833.90</td>\n",
       "      <td>256.09</td>\n",
       "      <td>0</td>\n",
       "      <td>0</td>\n",
       "    </tr>\n",
       "    <tr>\n",
       "      <th>1</th>\n",
       "      <td>80.23</td>\n",
       "      <td>31</td>\n",
       "      <td>68441.85</td>\n",
       "      <td>193.77</td>\n",
       "      <td>1</td>\n",
       "      <td>0</td>\n",
       "    </tr>\n",
       "    <tr>\n",
       "      <th>2</th>\n",
       "      <td>69.47</td>\n",
       "      <td>26</td>\n",
       "      <td>59785.94</td>\n",
       "      <td>236.50</td>\n",
       "      <td>0</td>\n",
       "      <td>0</td>\n",
       "    </tr>\n",
       "    <tr>\n",
       "      <th>3</th>\n",
       "      <td>74.15</td>\n",
       "      <td>29</td>\n",
       "      <td>54806.18</td>\n",
       "      <td>245.89</td>\n",
       "      <td>1</td>\n",
       "      <td>0</td>\n",
       "    </tr>\n",
       "    <tr>\n",
       "      <th>4</th>\n",
       "      <td>68.37</td>\n",
       "      <td>35</td>\n",
       "      <td>73889.99</td>\n",
       "      <td>225.58</td>\n",
       "      <td>0</td>\n",
       "      <td>0</td>\n",
       "    </tr>\n",
       "    <tr>\n",
       "      <th>...</th>\n",
       "      <td>...</td>\n",
       "      <td>...</td>\n",
       "      <td>...</td>\n",
       "      <td>...</td>\n",
       "      <td>...</td>\n",
       "      <td>...</td>\n",
       "    </tr>\n",
       "    <tr>\n",
       "      <th>995</th>\n",
       "      <td>72.97</td>\n",
       "      <td>30</td>\n",
       "      <td>71384.57</td>\n",
       "      <td>208.58</td>\n",
       "      <td>1</td>\n",
       "      <td>1</td>\n",
       "    </tr>\n",
       "    <tr>\n",
       "      <th>996</th>\n",
       "      <td>51.30</td>\n",
       "      <td>45</td>\n",
       "      <td>67782.17</td>\n",
       "      <td>134.42</td>\n",
       "      <td>1</td>\n",
       "      <td>1</td>\n",
       "    </tr>\n",
       "    <tr>\n",
       "      <th>997</th>\n",
       "      <td>51.63</td>\n",
       "      <td>51</td>\n",
       "      <td>42415.72</td>\n",
       "      <td>120.37</td>\n",
       "      <td>1</td>\n",
       "      <td>1</td>\n",
       "    </tr>\n",
       "    <tr>\n",
       "      <th>998</th>\n",
       "      <td>55.55</td>\n",
       "      <td>19</td>\n",
       "      <td>41920.79</td>\n",
       "      <td>187.95</td>\n",
       "      <td>0</td>\n",
       "      <td>0</td>\n",
       "    </tr>\n",
       "    <tr>\n",
       "      <th>999</th>\n",
       "      <td>45.01</td>\n",
       "      <td>26</td>\n",
       "      <td>29875.80</td>\n",
       "      <td>178.35</td>\n",
       "      <td>0</td>\n",
       "      <td>1</td>\n",
       "    </tr>\n",
       "  </tbody>\n",
       "</table>\n",
       "<p>1000 rows × 6 columns</p>\n",
       "</div>"
      ],
      "text/plain": [
       "     Daily Time Spent on Site  Age  Area Income  Daily Internet Usage  Male  \\\n",
       "0                       68.95   35     61833.90                256.09     0   \n",
       "1                       80.23   31     68441.85                193.77     1   \n",
       "2                       69.47   26     59785.94                236.50     0   \n",
       "3                       74.15   29     54806.18                245.89     1   \n",
       "4                       68.37   35     73889.99                225.58     0   \n",
       "..                        ...  ...          ...                   ...   ...   \n",
       "995                     72.97   30     71384.57                208.58     1   \n",
       "996                     51.30   45     67782.17                134.42     1   \n",
       "997                     51.63   51     42415.72                120.37     1   \n",
       "998                     55.55   19     41920.79                187.95     0   \n",
       "999                     45.01   26     29875.80                178.35     0   \n",
       "\n",
       "     Clicked on Ad  \n",
       "0                0  \n",
       "1                0  \n",
       "2                0  \n",
       "3                0  \n",
       "4                0  \n",
       "..             ...  \n",
       "995              1  \n",
       "996              1  \n",
       "997              1  \n",
       "998              0  \n",
       "999              1  \n",
       "\n",
       "[1000 rows x 6 columns]"
      ]
     },
     "execution_count": 9,
     "metadata": {},
     "output_type": "execute_result"
    }
   ],
   "source": [
    "df_model"
   ]
  },
  {
   "cell_type": "code",
   "execution_count": 10,
   "metadata": {},
   "outputs": [],
   "source": [
    "x = df_model.drop(columns=\"Clicked on Ad\")\n",
    "y = df_model[\"Clicked on Ad\"]"
   ]
  },
  {
   "cell_type": "code",
   "execution_count": 11,
   "metadata": {},
   "outputs": [
    {
     "data": {
      "text/html": [
       "<div>\n",
       "<style scoped>\n",
       "    .dataframe tbody tr th:only-of-type {\n",
       "        vertical-align: middle;\n",
       "    }\n",
       "\n",
       "    .dataframe tbody tr th {\n",
       "        vertical-align: top;\n",
       "    }\n",
       "\n",
       "    .dataframe thead th {\n",
       "        text-align: right;\n",
       "    }\n",
       "</style>\n",
       "<table border=\"1\" class=\"dataframe\">\n",
       "  <thead>\n",
       "    <tr style=\"text-align: right;\">\n",
       "      <th></th>\n",
       "      <th>Daily Time Spent on Site</th>\n",
       "      <th>Age</th>\n",
       "      <th>Area Income</th>\n",
       "      <th>Daily Internet Usage</th>\n",
       "      <th>Male</th>\n",
       "    </tr>\n",
       "  </thead>\n",
       "  <tbody>\n",
       "    <tr>\n",
       "      <th>0</th>\n",
       "      <td>68.95</td>\n",
       "      <td>35</td>\n",
       "      <td>61833.90</td>\n",
       "      <td>256.09</td>\n",
       "      <td>0</td>\n",
       "    </tr>\n",
       "    <tr>\n",
       "      <th>1</th>\n",
       "      <td>80.23</td>\n",
       "      <td>31</td>\n",
       "      <td>68441.85</td>\n",
       "      <td>193.77</td>\n",
       "      <td>1</td>\n",
       "    </tr>\n",
       "    <tr>\n",
       "      <th>2</th>\n",
       "      <td>69.47</td>\n",
       "      <td>26</td>\n",
       "      <td>59785.94</td>\n",
       "      <td>236.50</td>\n",
       "      <td>0</td>\n",
       "    </tr>\n",
       "    <tr>\n",
       "      <th>3</th>\n",
       "      <td>74.15</td>\n",
       "      <td>29</td>\n",
       "      <td>54806.18</td>\n",
       "      <td>245.89</td>\n",
       "      <td>1</td>\n",
       "    </tr>\n",
       "    <tr>\n",
       "      <th>4</th>\n",
       "      <td>68.37</td>\n",
       "      <td>35</td>\n",
       "      <td>73889.99</td>\n",
       "      <td>225.58</td>\n",
       "      <td>0</td>\n",
       "    </tr>\n",
       "    <tr>\n",
       "      <th>...</th>\n",
       "      <td>...</td>\n",
       "      <td>...</td>\n",
       "      <td>...</td>\n",
       "      <td>...</td>\n",
       "      <td>...</td>\n",
       "    </tr>\n",
       "    <tr>\n",
       "      <th>995</th>\n",
       "      <td>72.97</td>\n",
       "      <td>30</td>\n",
       "      <td>71384.57</td>\n",
       "      <td>208.58</td>\n",
       "      <td>1</td>\n",
       "    </tr>\n",
       "    <tr>\n",
       "      <th>996</th>\n",
       "      <td>51.30</td>\n",
       "      <td>45</td>\n",
       "      <td>67782.17</td>\n",
       "      <td>134.42</td>\n",
       "      <td>1</td>\n",
       "    </tr>\n",
       "    <tr>\n",
       "      <th>997</th>\n",
       "      <td>51.63</td>\n",
       "      <td>51</td>\n",
       "      <td>42415.72</td>\n",
       "      <td>120.37</td>\n",
       "      <td>1</td>\n",
       "    </tr>\n",
       "    <tr>\n",
       "      <th>998</th>\n",
       "      <td>55.55</td>\n",
       "      <td>19</td>\n",
       "      <td>41920.79</td>\n",
       "      <td>187.95</td>\n",
       "      <td>0</td>\n",
       "    </tr>\n",
       "    <tr>\n",
       "      <th>999</th>\n",
       "      <td>45.01</td>\n",
       "      <td>26</td>\n",
       "      <td>29875.80</td>\n",
       "      <td>178.35</td>\n",
       "      <td>0</td>\n",
       "    </tr>\n",
       "  </tbody>\n",
       "</table>\n",
       "<p>1000 rows × 5 columns</p>\n",
       "</div>"
      ],
      "text/plain": [
       "     Daily Time Spent on Site  Age  Area Income  Daily Internet Usage  Male\n",
       "0                       68.95   35     61833.90                256.09     0\n",
       "1                       80.23   31     68441.85                193.77     1\n",
       "2                       69.47   26     59785.94                236.50     0\n",
       "3                       74.15   29     54806.18                245.89     1\n",
       "4                       68.37   35     73889.99                225.58     0\n",
       "..                        ...  ...          ...                   ...   ...\n",
       "995                     72.97   30     71384.57                208.58     1\n",
       "996                     51.30   45     67782.17                134.42     1\n",
       "997                     51.63   51     42415.72                120.37     1\n",
       "998                     55.55   19     41920.79                187.95     0\n",
       "999                     45.01   26     29875.80                178.35     0\n",
       "\n",
       "[1000 rows x 5 columns]"
      ]
     },
     "execution_count": 11,
     "metadata": {},
     "output_type": "execute_result"
    }
   ],
   "source": [
    "x"
   ]
  },
  {
   "cell_type": "code",
   "execution_count": 12,
   "metadata": {},
   "outputs": [
    {
     "data": {
      "text/plain": [
       "0      0\n",
       "1      0\n",
       "2      0\n",
       "3      0\n",
       "4      0\n",
       "      ..\n",
       "995    1\n",
       "996    1\n",
       "997    1\n",
       "998    0\n",
       "999    1\n",
       "Name: Clicked on Ad, Length: 1000, dtype: int64"
      ]
     },
     "execution_count": 12,
     "metadata": {},
     "output_type": "execute_result"
    }
   ],
   "source": [
    "y"
   ]
  },
  {
   "cell_type": "code",
   "execution_count": 13,
   "metadata": {},
   "outputs": [],
   "source": [
    "# 1) Importar o estimador\n",
    "from sklearn.linear_model import LogisticRegression"
   ]
  },
  {
   "cell_type": "code",
   "execution_count": 14,
   "metadata": {},
   "outputs": [],
   "source": [
    "# 2) Instanciar o estimador (hiperparametros!)\n",
    "# Modelo baseline escolhemos os hiperparametros default\n",
    "lr = LogisticRegression()"
   ]
  },
  {
   "cell_type": "code",
   "execution_count": 15,
   "metadata": {},
   "outputs": [],
   "source": [
    "# 3) train-test split\n",
    "from sklearn.model_selection import train_test_split\n",
    "\n",
    "x_train, x_test, y_train, y_test = train_test_split(x, y, test_size=0.3, random_state=42)"
   ]
  },
  {
   "cell_type": "code",
   "execution_count": 16,
   "metadata": {},
   "outputs": [
    {
     "data": {
      "text/plain": [
       "LogisticRegression()"
      ]
     },
     "execution_count": 16,
     "metadata": {},
     "output_type": "execute_result"
    }
   ],
   "source": [
    "# 4) treino com .fit, dados de treino\n",
    "lr.fit(x_train, y_train)"
   ]
  },
  {
   "cell_type": "markdown",
   "metadata": {},
   "source": [
    "MODELO TREINADO!!"
   ]
  },
  {
   "cell_type": "code",
   "execution_count": 17,
   "metadata": {},
   "outputs": [
    {
     "data": {
      "text/plain": [
       "array([0.00549774])"
      ]
     },
     "execution_count": 17,
     "metadata": {},
     "output_type": "execute_result"
    }
   ],
   "source": [
    "lr.intercept_"
   ]
  },
  {
   "cell_type": "code",
   "execution_count": 18,
   "metadata": {},
   "outputs": [
    {
     "data": {
      "text/plain": [
       "array([[-5.61839608e-02,  2.65933604e-01, -1.62153396e-05,\n",
       "        -2.74019904e-02,  2.26459439e-03]])"
      ]
     },
     "execution_count": 18,
     "metadata": {},
     "output_type": "execute_result"
    }
   ],
   "source": [
    "lr.coef_"
   ]
  },
  {
   "cell_type": "code",
   "execution_count": 19,
   "metadata": {},
   "outputs": [],
   "source": [
    "y_pred = lr.predict(x_test)"
   ]
  },
  {
   "cell_type": "code",
   "execution_count": 20,
   "metadata": {},
   "outputs": [
    {
     "data": {
      "text/plain": [
       "array([0, 1, 1, 1, 0, 0, 0, 1, 0, 1], dtype=int64)"
      ]
     },
     "execution_count": 20,
     "metadata": {},
     "output_type": "execute_result"
    }
   ],
   "source": [
    "y_pred[:10]"
   ]
  },
  {
   "cell_type": "code",
   "execution_count": 21,
   "metadata": {},
   "outputs": [
    {
     "data": {
      "text/plain": [
       "array([1, 1, 1, 1, 0, 0, 0, 1, 0, 1], dtype=int64)"
      ]
     },
     "execution_count": 21,
     "metadata": {},
     "output_type": "execute_result"
    }
   ],
   "source": [
    "y_test[:10].values"
   ]
  },
  {
   "cell_type": "markdown",
   "metadata": {},
   "source": [
    "RESULTADO USANDO A PROBABILIDADE"
   ]
  },
  {
   "cell_type": "code",
   "execution_count": 22,
   "metadata": {},
   "outputs": [],
   "source": [
    "lr_proba = lr.predict_proba(x_test)*100"
   ]
  },
  {
   "cell_type": "code",
   "execution_count": 23,
   "metadata": {},
   "outputs": [
    {
     "data": {
      "text/plain": [
       "array([[50.58997471, 49.41002529],\n",
       "       [ 0.30197107, 99.69802893],\n",
       "       [ 4.95289102, 95.04710898],\n",
       "       [ 1.00266761, 98.99733239],\n",
       "       [97.0050585 ,  2.9949415 ],\n",
       "       [71.53512358, 28.46487642],\n",
       "       [97.66498343,  2.33501657],\n",
       "       [ 0.92128037, 99.07871963],\n",
       "       [69.13994919, 30.86005081],\n",
       "       [ 5.18626496, 94.81373504]])"
      ]
     },
     "execution_count": 23,
     "metadata": {},
     "output_type": "execute_result"
    }
   ],
   "source": [
    "lr_proba[:10]"
   ]
  },
  {
   "cell_type": "code",
   "execution_count": 24,
   "metadata": {},
   "outputs": [
    {
     "data": {
      "text/plain": [
       "array([49.41002529, 99.69802893, 95.04710898, 98.99733239,  2.9949415 ,\n",
       "       28.46487642,  2.33501657, 99.07871963, 30.86005081, 94.81373504,\n",
       "        1.91973459, 90.90921247, 99.72759974,  2.42941879, 91.83723022,\n",
       "       99.37097871, 99.88221381, 96.75141551,  9.27475849, 99.03039205,\n",
       "        9.26845067, 98.67275287, 99.40917664,  1.50985558,  2.00769811,\n",
       "       99.54274407,  0.86869382,  1.49337933, 99.08453777, 73.08672776,\n",
       "        1.73430636, 66.91162618,  3.5847581 , 85.73595019, 99.78880028,\n",
       "        7.09488697,  2.46164259, 11.13378215, 86.52381835, 97.95995885,\n",
       "        1.43751539, 91.89211519,  2.39115237, 98.40065377,  1.24847499,\n",
       "       10.08665685, 99.23479089, 99.84548612,  2.3674479 , 99.69297911,\n",
       "       98.05286826,  0.83781385, 88.39461249,  1.23104561, 11.15746918,\n",
       "        6.68504894, 13.62737796, 99.81228148,  2.49385435, 96.12083562,\n",
       "        7.74709601, 99.11410561, 10.87286091, 97.16179222, 87.78192233,\n",
       "       97.44674843, 99.85446743,  6.35051496, 70.50712703, 95.10025594,\n",
       "       97.27919872, 50.13112657, 12.79693987,  5.08204006, 84.11541762,\n",
       "        6.41966249,  3.51857745, 96.45074208, 49.10235068,  6.53523261,\n",
       "       98.99394654, 96.57058098, 57.71590883, 55.19894497,  7.54906744,\n",
       "        4.0298172 ,  1.99818496,  0.57965603,  8.38654762,  3.8562436 ,\n",
       "        8.77790755, 21.75637002,  6.800619  , 90.29316564, 22.18926351,\n",
       "        3.20258159, 99.86995914, 89.32474061,  9.80395172,  2.92060433,\n",
       "       91.68741796,  0.8773663 , 99.20748464,  3.3219379 , 99.58293542,\n",
       "       50.70383642, 86.68155451, 39.82348678, 98.59335322,  4.51128137,\n",
       "       99.84558686,  5.73582823, 95.8726607 , 99.56561738, 18.77595855,\n",
       "       52.1846454 ,  2.35022209, 14.73144407,  4.26650378, 46.01992379,\n",
       "       90.23409116, 96.84338365, 99.91597267,  2.49810859, 23.02739011,\n",
       "        2.68242109, 52.8893596 ,  2.94381772, 24.35320678, 56.28512875,\n",
       "       97.27955342, 99.84387669, 95.81053271,  4.80163916, 24.8809507 ,\n",
       "        9.63533603,  3.6003792 ,  9.08046598,  2.57587778, 86.38702162,\n",
       "        1.1967065 , 37.59004664, 91.74215791, 21.64148134,  0.89785556,\n",
       "       97.44883654, 63.50125727,  2.86349286,  2.03045012, 24.90782745,\n",
       "        1.73350052,  1.7457158 , 75.63278882,  2.63861028, 97.38259065,\n",
       "        5.16900795, 99.84615128,  0.97395304,  3.1548903 , 17.80852273,\n",
       "       84.46209791, 98.83661521,  1.84700259, 37.62667785, 88.21776045,\n",
       "       10.91765285,  3.81961851,  1.68863533, 23.46386639,  7.86900204,\n",
       "       96.82288252, 32.15351113, 99.83246328,  2.51326291, 62.51285274,\n",
       "       65.43056084, 99.44731519, 52.54939101, 99.78548014, 90.11735555,\n",
       "       57.55143349,  1.76392384, 96.98929043, 95.63563669, 98.26996544,\n",
       "       97.0597118 ,  8.86188803, 99.59108183, 87.18172155, 91.51584068,\n",
       "       19.02765914, 99.66501792,  7.24024716,  3.0435831 , 89.63443184,\n",
       "       90.18434222, 99.37944778, 99.94960694,  3.32134226, 96.50432007,\n",
       "        0.72940381,  6.04914463, 14.19791306,  1.49369654, 99.59624128,\n",
       "        1.21407877, 60.99191047,  5.13499617,  7.91973278,  2.43010951,\n",
       "        8.12897073, 63.80729422, 99.4046964 , 99.52034044, 99.06063684,\n",
       "        3.92753384,  5.95355621, 15.85692847,  5.22098953, 98.39757613,\n",
       "        1.97252579, 31.21273735, 99.73673521, 99.53879647,  3.31932303,\n",
       "        1.17353095,  2.98899709,  1.48654996,  1.16053942,  1.70604517,\n",
       "       26.58402322, 31.69024039, 42.15290209, 99.91537251,  3.49881931,\n",
       "        2.13392107, 83.8634082 , 46.57285401, 99.72711721,  4.42512072,\n",
       "        1.6744814 ,  3.42258151, 19.96956379,  0.71945388,  5.40268672,\n",
       "        7.01421133,  4.81522024,  3.5648822 , 12.11957536, 38.56401443,\n",
       "       94.00731892, 97.00511934, 87.73790263, 16.50870842, 42.61977533,\n",
       "        9.91179954, 97.78531505, 98.21653223, 99.77151049,  1.17925825,\n",
       "       10.93826162, 72.75675191, 96.5411747 , 15.22017844, 97.76044146,\n",
       "        1.25806954, 86.38649087,  2.46091295,  7.16314835, 98.58629426,\n",
       "       98.30034176, 91.66939027, 99.85873601, 12.19816336, 95.26540806,\n",
       "        1.05712076, 99.07216913,  1.26207623,  2.10051818,  7.54991082,\n",
       "       99.54866618,  5.64093502,  4.22960118, 38.6131988 , 89.74693289,\n",
       "        3.54633368,  8.19626256,  1.88198928, 95.69795572, 94.63857572,\n",
       "       17.84778613,  2.32326223,  8.18792238, 68.45981728,  3.21020293,\n",
       "       99.34589496, 17.08237457, 50.45662452, 99.36640441, 13.77055097])"
      ]
     },
     "execution_count": 24,
     "metadata": {},
     "output_type": "execute_result"
    }
   ],
   "source": [
    "y_proba_1 = lr_proba[:, 1]\n",
    "y_proba_1"
   ]
  },
  {
   "cell_type": "code",
   "execution_count": 25,
   "metadata": {},
   "outputs": [
    {
     "data": {
      "text/plain": [
       "array([5.05899747e+01, 3.01971071e-01, 4.95289102e+00, 1.00266761e+00,\n",
       "       9.70050585e+01, 7.15351236e+01, 9.76649834e+01, 9.21280366e-01,\n",
       "       6.91399492e+01, 5.18626496e+00, 9.80802654e+01, 9.09078753e+00,\n",
       "       2.72400259e-01, 9.75705812e+01, 8.16276978e+00, 6.29021287e-01,\n",
       "       1.17786190e-01, 3.24858449e+00, 9.07252415e+01, 9.69607953e-01,\n",
       "       9.07315493e+01, 1.32724713e+00, 5.90823355e-01, 9.84901444e+01,\n",
       "       9.79923019e+01, 4.57255934e-01, 9.91313062e+01, 9.85066207e+01,\n",
       "       9.15462235e-01, 2.69132722e+01, 9.82656936e+01, 3.30883738e+01,\n",
       "       9.64152419e+01, 1.42640498e+01, 2.11199720e-01, 9.29051130e+01,\n",
       "       9.75383574e+01, 8.88662178e+01, 1.34761816e+01, 2.04004115e+00,\n",
       "       9.85624846e+01, 8.10788481e+00, 9.76088476e+01, 1.59934623e+00,\n",
       "       9.87515250e+01, 8.99133432e+01, 7.65209110e-01, 1.54513882e-01,\n",
       "       9.76325521e+01, 3.07020894e-01, 1.94713174e+00, 9.91621862e+01,\n",
       "       1.16053875e+01, 9.87689544e+01, 8.88425308e+01, 9.33149511e+01,\n",
       "       8.63726220e+01, 1.87718516e-01, 9.75061456e+01, 3.87916438e+00,\n",
       "       9.22529040e+01, 8.85894387e-01, 8.91271391e+01, 2.83820778e+00,\n",
       "       1.22180777e+01, 2.55325157e+00, 1.45532570e-01, 9.36494850e+01,\n",
       "       2.94928730e+01, 4.89974406e+00, 2.72080128e+00, 4.98688734e+01,\n",
       "       8.72030601e+01, 9.49179599e+01, 1.58845824e+01, 9.35803375e+01,\n",
       "       9.64814225e+01, 3.54925792e+00, 5.08976493e+01, 9.34647674e+01,\n",
       "       1.00605346e+00, 3.42941902e+00, 4.22840912e+01, 4.48010550e+01,\n",
       "       9.24509326e+01, 9.59701828e+01, 9.80018150e+01, 9.94203440e+01,\n",
       "       9.16134524e+01, 9.61437564e+01, 9.12220925e+01, 7.82436300e+01,\n",
       "       9.31993810e+01, 9.70683436e+00, 7.78107365e+01, 9.67974184e+01,\n",
       "       1.30040860e-01, 1.06752594e+01, 9.01960483e+01, 9.70793957e+01,\n",
       "       8.31258204e+00, 9.91226337e+01, 7.92515363e-01, 9.66780621e+01,\n",
       "       4.17064582e-01, 4.92961636e+01, 1.33184455e+01, 6.01765132e+01,\n",
       "       1.40664678e+00, 9.54887186e+01, 1.54413138e-01, 9.42641718e+01,\n",
       "       4.12733930e+00, 4.34382620e-01, 8.12240415e+01, 4.78153546e+01,\n",
       "       9.76497779e+01, 8.52685559e+01, 9.57334962e+01, 5.39800762e+01,\n",
       "       9.76590884e+00, 3.15661635e+00, 8.40273272e-02, 9.75018914e+01,\n",
       "       7.69726099e+01, 9.73175789e+01, 4.71106404e+01, 9.70561823e+01,\n",
       "       7.56467932e+01, 4.37148712e+01, 2.72044658e+00, 1.56123314e-01,\n",
       "       4.18946729e+00, 9.51983608e+01, 7.51190493e+01, 9.03646640e+01,\n",
       "       9.63996208e+01, 9.09195340e+01, 9.74241222e+01, 1.36129784e+01,\n",
       "       9.88032935e+01, 6.24099534e+01, 8.25784209e+00, 7.83585187e+01,\n",
       "       9.91021444e+01, 2.55116346e+00, 3.64987427e+01, 9.71365071e+01,\n",
       "       9.79695499e+01, 7.50921726e+01, 9.82664995e+01, 9.82542842e+01,\n",
       "       2.43672112e+01, 9.73613897e+01, 2.61740935e+00, 9.48309921e+01,\n",
       "       1.53848719e-01, 9.90260470e+01, 9.68451097e+01, 8.21914773e+01,\n",
       "       1.55379021e+01, 1.16338479e+00, 9.81529974e+01, 6.23733221e+01,\n",
       "       1.17822395e+01, 8.90823472e+01, 9.61803815e+01, 9.83113647e+01,\n",
       "       7.65361336e+01, 9.21309980e+01, 3.17711748e+00, 6.78464889e+01,\n",
       "       1.67536716e-01, 9.74867371e+01, 3.74871473e+01, 3.45694392e+01,\n",
       "       5.52684808e-01, 4.74506090e+01, 2.14519855e-01, 9.88264445e+00,\n",
       "       4.24485665e+01, 9.82360762e+01, 3.01070957e+00, 4.36436331e+00,\n",
       "       1.73003456e+00, 2.94028820e+00, 9.11381120e+01, 4.08918170e-01,\n",
       "       1.28182784e+01, 8.48415932e+00, 8.09723409e+01, 3.34982083e-01,\n",
       "       9.27597528e+01, 9.69564169e+01, 1.03655682e+01, 9.81565778e+00,\n",
       "       6.20552224e-01, 5.03930613e-02, 9.66786577e+01, 3.49567993e+00,\n",
       "       9.92705962e+01, 9.39508554e+01, 8.58020869e+01, 9.85063035e+01,\n",
       "       4.03758717e-01, 9.87859212e+01, 3.90080895e+01, 9.48650038e+01,\n",
       "       9.20802672e+01, 9.75698905e+01, 9.18710293e+01, 3.61927058e+01,\n",
       "       5.95303600e-01, 4.79659560e-01, 9.39363165e-01, 9.60724662e+01,\n",
       "       9.40464438e+01, 8.41430715e+01, 9.47790105e+01, 1.60242387e+00,\n",
       "       9.80274742e+01, 6.87872626e+01, 2.63264794e-01, 4.61203533e-01,\n",
       "       9.66806770e+01, 9.88264691e+01, 9.70110029e+01, 9.85134500e+01,\n",
       "       9.88394606e+01, 9.82939548e+01, 7.34159768e+01, 6.83097596e+01,\n",
       "       5.78470979e+01, 8.46274851e-02, 9.65011807e+01, 9.78660789e+01,\n",
       "       1.61365918e+01, 5.34271460e+01, 2.72882787e-01, 9.55748793e+01,\n",
       "       9.83255186e+01, 9.65774185e+01, 8.00304362e+01, 9.92805461e+01,\n",
       "       9.45973133e+01, 9.29857887e+01, 9.51847798e+01, 9.64351178e+01,\n",
       "       8.78804246e+01, 6.14359856e+01, 5.99268108e+00, 2.99488066e+00,\n",
       "       1.22620974e+01, 8.34912916e+01, 5.73802247e+01, 9.00882005e+01,\n",
       "       2.21468495e+00, 1.78346777e+00, 2.28489513e-01, 9.88207418e+01,\n",
       "       8.90617384e+01, 2.72432481e+01, 3.45882530e+00, 8.47798216e+01,\n",
       "       2.23955854e+00, 9.87419305e+01, 1.36135091e+01, 9.75390870e+01,\n",
       "       9.28368517e+01, 1.41370574e+00, 1.69965824e+00, 8.33060973e+00,\n",
       "       1.41263994e-01, 8.78018366e+01, 4.73459194e+00, 9.89428792e+01,\n",
       "       9.27830872e-01, 9.87379238e+01, 9.78994818e+01, 9.24500892e+01,\n",
       "       4.51333821e-01, 9.43590650e+01, 9.57703988e+01, 6.13868012e+01,\n",
       "       1.02530671e+01, 9.64536663e+01, 9.18037374e+01, 9.81180107e+01,\n",
       "       4.30204428e+00, 5.36142428e+00, 8.21522139e+01, 9.76767378e+01,\n",
       "       9.18120776e+01, 3.15401827e+01, 9.67897971e+01, 6.54105036e-01,\n",
       "       8.29176254e+01, 4.95433755e+01, 6.33595595e-01, 8.62294490e+01])"
      ]
     },
     "execution_count": 25,
     "metadata": {},
     "output_type": "execute_result"
    }
   ],
   "source": [
    "y_proba_0 = lr_proba[:, 0]\n",
    "y_proba_0"
   ]
  },
  {
   "cell_type": "markdown",
   "metadata": {},
   "source": [
    "<img src=\"https://static.packt-cdn.com/products/9781838555078/graphics/C13314_06_05.jpg\" width=400>"
   ]
  },
  {
   "cell_type": "markdown",
   "metadata": {},
   "source": [
    "<img src=\"https://upload.wikimedia.org/wikipedia/commons/thumb/2/26/Precisionrecall.svg/1200px-Precisionrecall.svg.png\" width=500>"
   ]
  },
  {
   "cell_type": "code",
   "execution_count": null,
   "metadata": {},
   "outputs": [],
   "source": [
    "AVALIANDO O MODELO"
   ]
  },
  {
   "cell_type": "code",
   "execution_count": 26,
   "metadata": {},
   "outputs": [],
   "source": [
    "y_pred = lr.predict(x_test)"
   ]
  },
  {
   "cell_type": "code",
   "execution_count": 27,
   "metadata": {},
   "outputs": [
    {
     "data": {
      "text/plain": [
       "array([0, 1, 1, 1, 0, 0, 0, 1, 0, 1, 0, 1, 1, 0, 1, 1, 1, 1, 0, 1, 0, 1,\n",
       "       1, 0, 0, 1, 0, 0, 1, 1, 0, 1, 0, 1, 1, 0, 0, 0, 1, 1, 0, 1, 0, 1,\n",
       "       0, 0, 1, 1, 0, 1, 1, 0, 1, 0, 0, 0, 0, 1, 0, 1, 0, 1, 0, 1, 1, 1,\n",
       "       1, 0, 1, 1, 1, 1, 0, 0, 1, 0, 0, 1, 0, 0, 1, 1, 1, 1, 0, 0, 0, 0,\n",
       "       0, 0, 0, 0, 0, 1, 0, 0, 1, 1, 0, 0, 1, 0, 1, 0, 1, 1, 1, 0, 1, 0,\n",
       "       1, 0, 1, 1, 0, 1, 0, 0, 0, 0, 1, 1, 1, 0, 0, 0, 1, 0, 0, 1, 1, 1,\n",
       "       1, 0, 0, 0, 0, 0, 0, 1, 0, 0, 1, 0, 0, 1, 1, 0, 0, 0, 0, 0, 1, 0,\n",
       "       1, 0, 1, 0, 0, 0, 1, 1, 0, 0, 1, 0, 0, 0, 0, 0, 1, 0, 1, 0, 1, 1,\n",
       "       1, 1, 1, 1, 1, 0, 1, 1, 1, 1, 0, 1, 1, 1, 0, 1, 0, 0, 1, 1, 1, 1,\n",
       "       0, 1, 0, 0, 0, 0, 1, 0, 1, 0, 0, 0, 0, 1, 1, 1, 1, 0, 0, 0, 0, 1,\n",
       "       0, 0, 1, 1, 0, 0, 0, 0, 0, 0, 0, 0, 0, 1, 0, 0, 1, 0, 1, 0, 0, 0,\n",
       "       0, 0, 0, 0, 0, 0, 0, 0, 1, 1, 1, 0, 0, 0, 1, 1, 1, 0, 0, 1, 1, 0,\n",
       "       1, 0, 1, 0, 0, 1, 1, 1, 1, 0, 1, 0, 1, 0, 0, 0, 1, 0, 0, 0, 1, 0,\n",
       "       0, 0, 1, 1, 0, 0, 0, 1, 0, 1, 0, 1, 1, 0], dtype=int64)"
      ]
     },
     "execution_count": 27,
     "metadata": {},
     "output_type": "execute_result"
    }
   ],
   "source": [
    "y_pred"
   ]
  },
  {
   "cell_type": "code",
   "execution_count": 28,
   "metadata": {},
   "outputs": [],
   "source": [
    "from sklearn.metrics import confusion_matrix"
   ]
  },
  {
   "cell_type": "code",
   "execution_count": 29,
   "metadata": {},
   "outputs": [
    {
     "data": {
      "text/plain": [
       "array([[140,   6],\n",
       "       [ 25, 129]], dtype=int64)"
      ]
     },
     "execution_count": 29,
     "metadata": {},
     "output_type": "execute_result"
    }
   ],
   "source": [
    "confusion_matrix(y_test, y_pred)"
   ]
  },
  {
   "cell_type": "code",
   "execution_count": 30,
   "metadata": {},
   "outputs": [],
   "source": [
    "from sklearn.metrics import plot_confusion_matrix"
   ]
  },
  {
   "cell_type": "code",
   "execution_count": 31,
   "metadata": {},
   "outputs": [
    {
     "data": {
      "image/png": "[encoded data removed]",
      "text/plain": [
       "<Figure size 432x288 with 2 Axes>"
      ]
     },
     "metadata": {
      "needs_background": "light"
     },
     "output_type": "display_data"
    }
   ],
   "source": [
    "plot_confusion_matrix(lr, x_test, y_test, cmap=\"viridis\");"
   ]
  },
  {
   "cell_type": "code",
   "execution_count": 32,
   "metadata": {},
   "outputs": [
    {
     "data": {
      "image/png": "[encoded data removed]",
      "text/plain": [
       "<Figure size 432x288 with 2 Axes>"
      ]
     },
     "metadata": {
      "needs_background": "light"
     },
     "output_type": "display_data"
    }
   ],
   "source": [
    "plot_confusion_matrix(lr, x_test, y_test, normalize='all'); # 'true', 'pred', 'all'"
   ]
  },
  {
   "cell_type": "code",
   "execution_count": 33,
   "metadata": {},
   "outputs": [
    {
     "name": "stdout",
     "output_type": "stream",
     "text": [
      "              precision    recall  f1-score   support\n",
      "\n",
      "           0       0.85      0.96      0.90       146\n",
      "           1       0.96      0.84      0.89       154\n",
      "\n",
      "    accuracy                           0.90       300\n",
      "   macro avg       0.90      0.90      0.90       300\n",
      "weighted avg       0.90      0.90      0.90       300\n",
      "\n"
     ]
    }
   ],
   "source": [
    "from sklearn.metrics import classification_report\n",
    "\n",
    "print(classification_report(y_test, y_pred))"
   ]
  },
  {
   "cell_type": "code",
   "execution_count": 34,
   "metadata": {},
   "outputs": [
    {
     "data": {
      "text/plain": [
       "0.9555555555555556"
      ]
     },
     "execution_count": 34,
     "metadata": {},
     "output_type": "execute_result"
    }
   ],
   "source": [
    "from sklearn.metrics import precision_score\n",
    "\n",
    "precision_score(y_test, y_pred, pos_label=1) # classe 1"
   ]
  },
  {
   "cell_type": "code",
   "execution_count": 35,
   "metadata": {},
   "outputs": [
    {
     "data": {
      "text/plain": [
       "0.8484848484848485"
      ]
     },
     "execution_count": 35,
     "metadata": {},
     "output_type": "execute_result"
    }
   ],
   "source": [
    "precision_score(y_test, y_pred, pos_label=0)  # classe 0"
   ]
  },
  {
   "cell_type": "code",
   "execution_count": 36,
   "metadata": {},
   "outputs": [
    {
     "data": {
      "text/plain": [
       "array([0, 1], dtype=int64)"
      ]
     },
     "execution_count": 36,
     "metadata": {},
     "output_type": "execute_result"
    }
   ],
   "source": [
    "lr.classes_"
   ]
  },
  {
   "cell_type": "code",
   "execution_count": 37,
   "metadata": {},
   "outputs": [],
   "source": [
    "probas = lr.predict_proba(x_test)"
   ]
  },
  {
   "cell_type": "code",
   "execution_count": 38,
   "metadata": {},
   "outputs": [],
   "source": [
    "probas_0 = probas[:,0]\n",
    "probas_1 = probas[:,1]"
   ]
  },
  {
   "cell_type": "code",
   "execution_count": 40,
   "metadata": {},
   "outputs": [],
   "source": [
    "cutoff = 0.5\n",
    "\n",
    "y_pred_proba = np.where(probas_1 >= cutoff, 1, 0) # Operador binário. Posso trocar o 1 pelo 0 caso for necessário"
   ]
  },
  {
   "cell_type": "code",
   "execution_count": 41,
   "metadata": {},
   "outputs": [
    {
     "data": {
      "text/plain": [
       "0    165\n",
       "1    135\n",
       "dtype: int64"
      ]
     },
     "execution_count": 41,
     "metadata": {},
     "output_type": "execute_result"
    }
   ],
   "source": [
    "pd.Series(y_pred_proba).value_counts()"
   ]
  },
  {
   "cell_type": "code",
   "execution_count": 42,
   "metadata": {},
   "outputs": [
    {
     "data": {
      "text/plain": [
       "0    202\n",
       "1     98\n",
       "dtype: int64"
      ]
     },
     "execution_count": 42,
     "metadata": {},
     "output_type": "execute_result"
    }
   ],
   "source": [
    "cutoff = 0.9\n",
    "\n",
    "y_pred_proba = np.where(probas_1 >= cutoff, 1, 0)\n",
    "pd.Series(y_pred_proba).value_counts()"
   ]
  },
  {
   "cell_type": "code",
   "execution_count": 43,
   "metadata": {},
   "outputs": [
    {
     "data": {
      "text/plain": [
       "1    182\n",
       "0    118\n",
       "dtype: int64"
      ]
     },
     "execution_count": 43,
     "metadata": {},
     "output_type": "execute_result"
    }
   ],
   "source": [
    "cutoff = 0.1\n",
    "\n",
    "y_pred_proba = np.where(probas_1 >= cutoff, 1, 0)\n",
    "pd.Series(y_pred_proba).value_counts()"
   ]
  },
  {
   "cell_type": "code",
   "execution_count": 44,
   "metadata": {},
   "outputs": [
    {
     "data": {
      "text/plain": [
       "1    217\n",
       "0     83\n",
       "dtype: int64"
      ]
     },
     "execution_count": 44,
     "metadata": {},
     "output_type": "execute_result"
    }
   ],
   "source": [
    "cutoff = 0.05\n",
    "\n",
    "y_pred_proba = np.where(probas_1 >= cutoff, 1, 0)\n",
    "pd.Series(y_pred_proba).value_counts()"
   ]
  },
  {
   "cell_type": "code",
   "execution_count": 45,
   "metadata": {},
   "outputs": [
    {
     "name": "stdout",
     "output_type": "stream",
     "text": [
      "Coeficientes:\n",
      " [[-5.61839608e-02  2.65933604e-01 -1.62153396e-05 -2.74019904e-02\n",
      "   2.26459439e-03]]\n",
      "\n",
      "Intercept: [0.00549774]\n",
      "\n",
      "Classes: [0 1]\n",
      "\n",
      "###################################################\n",
      "\n",
      "Avaliação de modelos com diferentes valores de cutoff\n",
      "\n",
      "###################################################\n",
      "\n",
      "\n",
      " Cutoff: 0.05\n",
      "\n",
      "Matriz de confusão do modelo nos dados de teste:\n",
      "[[ 78  68]\n",
      " [  5 149]]\n",
      "<sklearn.metrics._plot.confusion_matrix.ConfusionMatrixDisplay object at 0x0000020DBEEADF10>\n"
     ]
    },
    {
     "data": {
      "image/png": "[encoded data removed]",
      "text/plain": [
       "<Figure size 432x288 with 2 Axes>"
      ]
     },
     "metadata": {
      "needs_background": "light"
     },
     "output_type": "display_data"
    },
    {
     "name": "stdout",
     "output_type": "stream",
     "text": [
      "\n",
      "Classification report do modelo nos dados de teste:\n",
      "              precision    recall  f1-score   support\n",
      "\n",
      "           0       0.94      0.53      0.68       146\n",
      "           1       0.69      0.97      0.80       154\n",
      "\n",
      "    accuracy                           0.76       300\n",
      "   macro avg       0.81      0.75      0.74       300\n",
      "weighted avg       0.81      0.76      0.74       300\n",
      "\n",
      "\n",
      "##########################################################\n",
      "\n",
      "\n",
      " Cutoff: 0.1\n",
      "\n",
      "Matriz de confusão do modelo nos dados de teste:\n",
      "[[111  35]\n",
      " [  7 147]]\n",
      "<sklearn.metrics._plot.confusion_matrix.ConfusionMatrixDisplay object at 0x0000020DBEF5E0A0>\n"
     ]
    },
    {
     "data": {
      "image/png": "[encoded data removed]",
      "text/plain": [
       "<Figure size 432x288 with 2 Axes>"
      ]
     },
     "metadata": {
      "needs_background": "light"
     },
     "output_type": "display_data"
    },
    {
     "name": "stdout",
     "output_type": "stream",
     "text": [
      "\n",
      "Classification report do modelo nos dados de teste:\n",
      "              precision    recall  f1-score   support\n",
      "\n",
      "           0       0.94      0.76      0.84       146\n",
      "           1       0.81      0.95      0.88       154\n",
      "\n",
      "    accuracy                           0.86       300\n",
      "   macro avg       0.87      0.86      0.86       300\n",
      "weighted avg       0.87      0.86      0.86       300\n",
      "\n",
      "\n",
      "##########################################################\n",
      "\n",
      "\n",
      " Cutoff: 0.2\n",
      "\n",
      "Matriz de confusão do modelo nos dados de teste:\n",
      "[[127  19]\n",
      " [ 13 141]]\n",
      "<sklearn.metrics._plot.confusion_matrix.ConfusionMatrixDisplay object at 0x0000020DBEF5E0A0>\n"
     ]
    },
    {
     "data": {
      "image/png": "[encoded data removed]",
      "text/plain": [
       "<Figure size 432x288 with 2 Axes>"
      ]
     },
     "metadata": {
      "needs_background": "light"
     },
     "output_type": "display_data"
    },
    {
     "name": "stdout",
     "output_type": "stream",
     "text": [
      "\n",
      "Classification report do modelo nos dados de teste:\n",
      "              precision    recall  f1-score   support\n",
      "\n",
      "           0       0.91      0.87      0.89       146\n",
      "           1       0.88      0.92      0.90       154\n",
      "\n",
      "    accuracy                           0.89       300\n",
      "   macro avg       0.89      0.89      0.89       300\n",
      "weighted avg       0.89      0.89      0.89       300\n",
      "\n",
      "\n",
      "##########################################################\n",
      "\n",
      "\n",
      " Cutoff: 0.3\n",
      "\n",
      "Matriz de confusão do modelo nos dados de teste:\n",
      "[[133  13]\n",
      " [ 17 137]]\n",
      "<sklearn.metrics._plot.confusion_matrix.ConfusionMatrixDisplay object at 0x0000020DBEF54C40>\n"
     ]
    },
    {
     "data": {
      "image/png": "[encoded data removed]",
      "text/plain": [
       "<Figure size 432x288 with 2 Axes>"
      ]
     },
     "metadata": {
      "needs_background": "light"
     },
     "output_type": "display_data"
    },
    {
     "name": "stdout",
     "output_type": "stream",
     "text": [
      "\n",
      "Classification report do modelo nos dados de teste:\n",
      "              precision    recall  f1-score   support\n",
      "\n",
      "           0       0.89      0.91      0.90       146\n",
      "           1       0.91      0.89      0.90       154\n",
      "\n",
      "    accuracy                           0.90       300\n",
      "   macro avg       0.90      0.90      0.90       300\n",
      "weighted avg       0.90      0.90      0.90       300\n",
      "\n",
      "\n",
      "##########################################################\n",
      "\n",
      "\n",
      " Cutoff: 0.4\n",
      "\n",
      "Matriz de confusão do modelo nos dados de teste:\n",
      "[[136  10]\n",
      " [ 23 131]]\n",
      "<sklearn.metrics._plot.confusion_matrix.ConfusionMatrixDisplay object at 0x0000020DBF07FDC0>\n"
     ]
    },
    {
     "data": {
      "image/png": "[encoded data removed]",
      "text/plain": [
       "<Figure size 432x288 with 2 Axes>"
      ]
     },
     "metadata": {
      "needs_background": "light"
     },
     "output_type": "display_data"
    },
    {
     "name": "stdout",
     "output_type": "stream",
     "text": [
      "\n",
      "Classification report do modelo nos dados de teste:\n",
      "              precision    recall  f1-score   support\n",
      "\n",
      "           0       0.86      0.93      0.89       146\n",
      "           1       0.93      0.85      0.89       154\n",
      "\n",
      "    accuracy                           0.89       300\n",
      "   macro avg       0.89      0.89      0.89       300\n",
      "weighted avg       0.89      0.89      0.89       300\n",
      "\n",
      "\n",
      "##########################################################\n",
      "\n",
      "\n",
      " Cutoff: 0.5\n",
      "\n",
      "Matriz de confusão do modelo nos dados de teste:\n",
      "[[140   6]\n",
      " [ 25 129]]\n",
      "<sklearn.metrics._plot.confusion_matrix.ConfusionMatrixDisplay object at 0x0000020DBF07FDC0>\n"
     ]
    },
    {
     "data": {
      "image/png": "[encoded data removed]",
      "text/plain": [
       "<Figure size 432x288 with 2 Axes>"
      ]
     },
     "metadata": {
      "needs_background": "light"
     },
     "output_type": "display_data"
    },
    {
     "name": "stdout",
     "output_type": "stream",
     "text": [
      "\n",
      "Classification report do modelo nos dados de teste:\n",
      "              precision    recall  f1-score   support\n",
      "\n",
      "           0       0.85      0.96      0.90       146\n",
      "           1       0.96      0.84      0.89       154\n",
      "\n",
      "    accuracy                           0.90       300\n",
      "   macro avg       0.90      0.90      0.90       300\n",
      "weighted avg       0.90      0.90      0.90       300\n",
      "\n",
      "\n",
      "##########################################################\n",
      "\n",
      "\n",
      " Cutoff: 0.6\n",
      "\n",
      "Matriz de confusão do modelo nos dados de teste:\n",
      "[[141   5]\n",
      " [ 34 120]]\n",
      "<sklearn.metrics._plot.confusion_matrix.ConfusionMatrixDisplay object at 0x0000020DBF1850D0>\n"
     ]
    },
    {
     "data": {
      "image/png": "[encoded data removed]",
      "text/plain": [
       "<Figure size 432x288 with 2 Axes>"
      ]
     },
     "metadata": {
      "needs_background": "light"
     },
     "output_type": "display_data"
    },
    {
     "name": "stdout",
     "output_type": "stream",
     "text": [
      "\n",
      "Classification report do modelo nos dados de teste:\n",
      "              precision    recall  f1-score   support\n",
      "\n",
      "           0       0.81      0.97      0.88       146\n",
      "           1       0.96      0.78      0.86       154\n",
      "\n",
      "    accuracy                           0.87       300\n",
      "   macro avg       0.88      0.87      0.87       300\n",
      "weighted avg       0.88      0.87      0.87       300\n",
      "\n",
      "\n",
      "##########################################################\n",
      "\n",
      "\n",
      " Cutoff: 0.7\n",
      "\n",
      "Matriz de confusão do modelo nos dados de teste:\n",
      "[[144   2]\n",
      " [ 38 116]]\n",
      "<sklearn.metrics._plot.confusion_matrix.ConfusionMatrixDisplay object at 0x0000020DBF2AEA90>\n"
     ]
    },
    {
     "data": {
      "image/png": "[encoded data removed]",
      "text/plain": [
       "<Figure size 432x288 with 2 Axes>"
      ]
     },
     "metadata": {
      "needs_background": "light"
     },
     "output_type": "display_data"
    },
    {
     "name": "stdout",
     "output_type": "stream",
     "text": [
      "\n",
      "Classification report do modelo nos dados de teste:\n",
      "              precision    recall  f1-score   support\n",
      "\n",
      "           0       0.79      0.99      0.88       146\n",
      "           1       0.98      0.75      0.85       154\n",
      "\n",
      "    accuracy                           0.87       300\n",
      "   macro avg       0.89      0.87      0.87       300\n",
      "weighted avg       0.89      0.87      0.87       300\n",
      "\n",
      "\n",
      "##########################################################\n",
      "\n",
      "\n",
      " Cutoff: 0.8\n",
      "\n",
      "Matriz de confusão do modelo nos dados de teste:\n",
      "[[144   2]\n",
      " [ 42 112]]\n",
      "<sklearn.metrics._plot.confusion_matrix.ConfusionMatrixDisplay object at 0x0000020DBF2A0F40>\n"
     ]
    },
    {
     "data": {
      "image/png": "[encoded data removed]",
      "text/plain": [
       "<Figure size 432x288 with 2 Axes>"
      ]
     },
     "metadata": {
      "needs_background": "light"
     },
     "output_type": "display_data"
    },
    {
     "name": "stdout",
     "output_type": "stream",
     "text": [
      "\n",
      "Classification report do modelo nos dados de teste:\n",
      "              precision    recall  f1-score   support\n",
      "\n",
      "           0       0.77      0.99      0.87       146\n",
      "           1       0.98      0.73      0.84       154\n",
      "\n",
      "    accuracy                           0.85       300\n",
      "   macro avg       0.88      0.86      0.85       300\n",
      "weighted avg       0.88      0.85      0.85       300\n",
      "\n",
      "\n",
      "##########################################################\n",
      "\n",
      "\n",
      " Cutoff: 0.9\n",
      "\n",
      "Matriz de confusão do modelo nos dados de teste:\n",
      "[[145   1]\n",
      " [ 57  97]]\n",
      "<sklearn.metrics._plot.confusion_matrix.ConfusionMatrixDisplay object at 0x0000020DBF20FA00>\n"
     ]
    },
    {
     "data": {
      "image/png": "[encoded data removed]",
      "text/plain": [
       "<Figure size 432x288 with 2 Axes>"
      ]
     },
     "metadata": {
      "needs_background": "light"
     },
     "output_type": "display_data"
    },
    {
     "name": "stdout",
     "output_type": "stream",
     "text": [
      "\n",
      "Classification report do modelo nos dados de teste:\n",
      "              precision    recall  f1-score   support\n",
      "\n",
      "           0       0.72      0.99      0.83       146\n",
      "           1       0.99      0.63      0.77       154\n",
      "\n",
      "    accuracy                           0.81       300\n",
      "   macro avg       0.85      0.81      0.80       300\n",
      "weighted avg       0.86      0.81      0.80       300\n",
      "\n",
      "\n",
      "##########################################################\n",
      "\n",
      "\n",
      " Cutoff: 0.95\n",
      "\n",
      "Matriz de confusão do modelo nos dados de teste:\n",
      "[[146   0]\n",
      " [ 70  84]]\n",
      "<sklearn.metrics._plot.confusion_matrix.ConfusionMatrixDisplay object at 0x0000020DBF20FA00>\n"
     ]
    },
    {
     "data": {
      "image/png": "[encoded data removed]",
      "text/plain": [
       "<Figure size 432x288 with 2 Axes>"
      ]
     },
     "metadata": {
      "needs_background": "light"
     },
     "output_type": "display_data"
    },
    {
     "name": "stdout",
     "output_type": "stream",
     "text": [
      "\n",
      "Classification report do modelo nos dados de teste:\n",
      "              precision    recall  f1-score   support\n",
      "\n",
      "           0       0.68      1.00      0.81       146\n",
      "           1       1.00      0.55      0.71       154\n",
      "\n",
      "    accuracy                           0.77       300\n",
      "   macro avg       0.84      0.77      0.76       300\n",
      "weighted avg       0.84      0.77      0.75       300\n",
      "\n",
      "\n",
      "##########################################################\n",
      "\n"
     ]
    }
   ],
   "source": [
    "# leia a base\n",
    "df = pd.read_csv(\"..\\\\datasets\\\\advertising.csv\")\n",
    "\n",
    "# apenas as features numericas\n",
    "df = df.select_dtypes(include=[np.number])\n",
    "\n",
    "# separe as features e o target\n",
    "X = df.drop(columns = 'Clicked on Ad')\n",
    "y = df['Clicked on Ad']\n",
    "\n",
    "# 1) importe a classe do classificador\n",
    "from sklearn.linear_model import LogisticRegression\n",
    "\n",
    "# 2) instancie a classe\n",
    "estimador = LogisticRegression()\n",
    "\n",
    "# 3) faça o train-test split\n",
    "from sklearn.model_selection import train_test_split\n",
    "X_train, X_test, y_train, y_test = train_test_split(X, y, test_size=0.3, random_state=42)\n",
    "    \n",
    "# 4) treine o modelo\n",
    "modelo = estimador.fit(X_train, y_train)\n",
    "\n",
    "# dê uma olhada nos coeficientes\n",
    "print(\"Coeficientes:\\n\", modelo.coef_)\n",
    "print(\"\\nIntercept:\", modelo.intercept_)\n",
    "\n",
    "# dê uma olhada nas classes do modelo\n",
    "classes =  modelo.classes_\n",
    "print(\"\\nClasses:\", classes)\n",
    "\n",
    "# 5) probabilidades das previsões\n",
    "probs = modelo.predict_proba(X_test)\n",
    "\n",
    "# probabilidade de pertencimento à classe 1\n",
    "probs_1 = probs[:, 1]\n",
    "\n",
    "# avaliação  do modelo\n",
    "from sklearn.metrics import classification_report, confusion_matrix, plot_confusion_matrix\n",
    "\n",
    "# cutoffs\n",
    "threshold_list = [0.05, 0.1, 0.2, 0.3, 0.4, 0.5, 0.6, 0.7, 0.8, 0.9, 0.95]\n",
    "\n",
    "print(\"\\n###################################################\\n\")\n",
    "print(\"Avaliação de modelos com diferentes valores de cutoff\")\n",
    "print(\"\\n###################################################\\n\")\n",
    "\n",
    "for threshold in threshold_list:\n",
    "    \n",
    "    print(\"\\n Cutoff:\", threshold)\n",
    "    \n",
    "    # previsões\n",
    "    y_pred = np.where(probs_1 >= threshold, 1, 0)\n",
    "\n",
    "    print(\"\\nMatriz de confusão do modelo nos dados de teste:\")\n",
    "    print(confusion_matrix(y_test, y_pred))\n",
    "    \n",
    "    print(plot_confusion_matrix(estimador, x_test, y_pred, cmap=\"viridis\"))\n",
    "    plt.show()\n",
    "\n",
    "    print(\"\\nClassification report do modelo nos dados de teste:\")\n",
    "    print(classification_report(y_test, y_pred))\n",
    "    \n",
    "    print(\"\\n##########################################################\\n\")"
   ]
  },
  {
   "cell_type": "code",
   "execution_count": 46,
   "metadata": {},
   "outputs": [],
   "source": [
    "from sklearn.metrics import precision_recall_curve\n",
    "\n",
    "y_proba_1 = lr.predict_proba(X_test)[:, 1]\n",
    "\n",
    "precisions, recalls, thresholds = precision_recall_curve(y_test, y_proba_1)"
   ]
  },
  {
   "cell_type": "code",
   "execution_count": 47,
   "metadata": {},
   "outputs": [
    {
     "data": {
      "image/png": "[encoded data removed]",
      "text/plain": [
       "<Figure size 432x288 with 1 Axes>"
      ]
     },
     "metadata": {
      "needs_background": "light"
     },
     "output_type": "display_data"
    }
   ],
   "source": [
    "plt.title(\"Precision-recall curve\")\n",
    "\n",
    "plt.plot(recalls, precisions)\n",
    "\n",
    "plt.xlabel(\"Recall\")\n",
    "plt.ylabel(\"Precision\")\n",
    "\n",
    "plt.show()"
   ]
  },
  {
   "cell_type": "code",
   "execution_count": 48,
   "metadata": {},
   "outputs": [
    {
     "data": {
      "image/png": "[encoded data removed]",
      "text/plain": [
       "<Figure size 432x288 with 1 Axes>"
      ]
     },
     "metadata": {
      "needs_background": "light"
     },
     "output_type": "display_data"
    }
   ],
   "source": [
    "plt.title(\"Precision-recall curve\")\n",
    "\n",
    "plt.plot(thresholds, precisions[:-1], label=\"Precision\")\n",
    "plt.plot(thresholds, recalls[:-1], label=\"Recall\")\n",
    "\n",
    "plt.xlabel(\"Thresholds (cutoffs)\")\n",
    "\n",
    "ponto_de_encontro = thresholds[np.where(precisions == recalls)]\n",
    "plt.axvline(x=ponto_de_encontro, ls=\":\", color=\"black\")\n",
    "\n",
    "# # generalização: se nãoi tiver igualdade, testamos aproximação\n",
    "# tol = 1e-4\n",
    "# ponto_de_encontro = thresholds[np.where(np.abs(precisions - recalls) < tol)]\n",
    "# plt.axvline(x=ponto_de_encontro, ls=\":\", color=\"black\")\n",
    "\n",
    "plt.legend()\n",
    "plt.show()"
   ]
  },
  {
   "cell_type": "code",
   "execution_count": 49,
   "metadata": {},
   "outputs": [
    {
     "data": {
      "text/plain": [
       "array([0.24880951])"
      ]
     },
     "execution_count": 49,
     "metadata": {},
     "output_type": "execute_result"
    }
   ],
   "source": [
    "ponto_de_encontro"
   ]
  },
  {
   "cell_type": "code",
   "execution_count": 50,
   "metadata": {},
   "outputs": [
    {
     "name": "stdout",
     "output_type": "stream",
     "text": [
      "\n",
      " Cutoff: [0.24880951]\n",
      "\n",
      "Matriz de confusão do modelo nos dados de teste:\n",
      "[[130  16]\n",
      " [ 16 138]]\n",
      "<sklearn.metrics._plot.confusion_matrix.ConfusionMatrixDisplay object at 0x0000020DBE1CFDF0>\n"
     ]
    },
    {
     "data": {
      "image/png": "[encoded data removed]",
      "text/plain": [
       "<Figure size 432x288 with 2 Axes>"
      ]
     },
     "metadata": {
      "needs_background": "light"
     },
     "output_type": "display_data"
    },
    {
     "name": "stdout",
     "output_type": "stream",
     "text": [
      "\n",
      "Classification report do modelo nos dados de teste:\n",
      "              precision    recall  f1-score   support\n",
      "\n",
      "           0       0.89      0.89      0.89       146\n",
      "           1       0.90      0.90      0.90       154\n",
      "\n",
      "    accuracy                           0.89       300\n",
      "   macro avg       0.89      0.89      0.89       300\n",
      "weighted avg       0.89      0.89      0.89       300\n",
      "\n",
      "\n",
      "##########################################################\n",
      "\n"
     ]
    }
   ],
   "source": [
    "threshold = ponto_de_encontro\n",
    "\n",
    "print(\"\\n Cutoff:\", threshold)\n",
    "\n",
    "# previsões\n",
    "y_pred = np.where(probs_1 >= threshold, 1, 0)\n",
    "\n",
    "print(\"\\nMatriz de confusão do modelo nos dados de teste:\")\n",
    "print(confusion_matrix(y_test, y_pred))\n",
    "\n",
    "print(plot_confusion_matrix(estimador, x_test, y_pred, cmap=\"viridis\"))\n",
    "plt.show()\n",
    "\n",
    "print(\"\\nClassification report do modelo nos dados de teste:\")\n",
    "print(classification_report(y_test, y_pred))\n",
    "\n",
    "print(\"\\n##########################################################\\n\")"
   ]
  },
  {
   "cell_type": "code",
   "execution_count": 51,
   "metadata": {},
   "outputs": [
    {
     "data": {
      "text/plain": [
       "{'0': {'precision': 0.8904109589041096,\n",
       "  'recall': 0.8904109589041096,\n",
       "  'f1-score': 0.8904109589041096,\n",
       "  'support': 146},\n",
       " '1': {'precision': 0.8961038961038961,\n",
       "  'recall': 0.8961038961038961,\n",
       "  'f1-score': 0.8961038961038962,\n",
       "  'support': 154},\n",
       " 'accuracy': 0.8933333333333333,\n",
       " 'macro avg': {'precision': 0.8932574275040028,\n",
       "  'recall': 0.8932574275040028,\n",
       "  'f1-score': 0.8932574275040028,\n",
       "  'support': 300},\n",
       " 'weighted avg': {'precision': 0.8933333333333333,\n",
       "  'recall': 0.8933333333333333,\n",
       "  'f1-score': 0.8933333333333333,\n",
       "  'support': 300}}"
      ]
     },
     "execution_count": 51,
     "metadata": {},
     "output_type": "execute_result"
    }
   ],
   "source": [
    "classification_report(y_test, y_pred, output_dict=True)"
   ]
  },
  {
   "cell_type": "code",
   "execution_count": 52,
   "metadata": {},
   "outputs": [
    {
     "data": {
      "text/plain": [
       "array([0.49410025, 0.99698029, 0.95047109, 0.98997332, 0.02994942,\n",
       "       0.28464876, 0.02335017, 0.9907872 , 0.30860051, 0.94813735,\n",
       "       0.01919735, 0.90909212, 0.997276  , 0.02429419, 0.9183723 ,\n",
       "       0.99370979, 0.99882214, 0.96751416, 0.09274758, 0.99030392,\n",
       "       0.09268451, 0.98672753, 0.99409177, 0.01509856, 0.02007698,\n",
       "       0.99542744, 0.00868694, 0.01493379, 0.99084538, 0.73086728,\n",
       "       0.01734306, 0.66911626, 0.03584758, 0.8573595 , 0.997888  ,\n",
       "       0.07094887, 0.02461643, 0.11133782, 0.86523818, 0.97959959,\n",
       "       0.01437515, 0.91892115, 0.02391152, 0.98400654, 0.01248475,\n",
       "       0.10086657, 0.99234791, 0.99845486, 0.02367448, 0.99692979,\n",
       "       0.98052868, 0.00837814, 0.88394612, 0.01231046, 0.11157469,\n",
       "       0.06685049, 0.13627378, 0.99812281, 0.02493854, 0.96120836,\n",
       "       0.07747096, 0.99114106, 0.10872861, 0.97161792, 0.87781922,\n",
       "       0.97446748, 0.99854467, 0.06350515, 0.70507127, 0.95100256,\n",
       "       0.97279199, 0.50131127, 0.1279694 , 0.0508204 , 0.84115418,\n",
       "       0.06419662, 0.03518577, 0.96450742, 0.49102351, 0.06535233,\n",
       "       0.98993947, 0.96570581, 0.57715909, 0.55198945, 0.07549067,\n",
       "       0.04029817, 0.01998185, 0.00579656, 0.08386548, 0.03856244,\n",
       "       0.08777908, 0.2175637 , 0.06800619, 0.90293166, 0.22189264,\n",
       "       0.03202582, 0.99869959, 0.89324741, 0.09803952, 0.02920604,\n",
       "       0.91687418, 0.00877366, 0.99207485, 0.03321938, 0.99582935,\n",
       "       0.50703836, 0.86681555, 0.39823487, 0.98593353, 0.04511281,\n",
       "       0.99845587, 0.05735828, 0.95872661, 0.99565617, 0.18775959,\n",
       "       0.52184645, 0.02350222, 0.14731444, 0.04266504, 0.46019924,\n",
       "       0.90234091, 0.96843384, 0.99915973, 0.02498109, 0.2302739 ,\n",
       "       0.02682421, 0.5288936 , 0.02943818, 0.24353207, 0.56285129,\n",
       "       0.97279553, 0.99843877, 0.95810533, 0.04801639, 0.24880951,\n",
       "       0.09635336, 0.03600379, 0.09080466, 0.02575878, 0.86387022,\n",
       "       0.01196706, 0.37590047, 0.91742158, 0.21641481, 0.00897856,\n",
       "       0.97448837, 0.63501257, 0.02863493, 0.0203045 , 0.24907827,\n",
       "       0.01733501, 0.01745716, 0.75632789, 0.0263861 , 0.97382591,\n",
       "       0.05169008, 0.99846151, 0.00973953, 0.0315489 , 0.17808523,\n",
       "       0.84462098, 0.98836615, 0.01847003, 0.37626678, 0.8821776 ,\n",
       "       0.10917653, 0.03819619, 0.01688635, 0.23463866, 0.07869002,\n",
       "       0.96822883, 0.32153511, 0.99832463, 0.02513263, 0.62512853,\n",
       "       0.65430561, 0.99447315, 0.52549391, 0.9978548 , 0.90117356,\n",
       "       0.57551433, 0.01763924, 0.9698929 , 0.95635637, 0.98269965,\n",
       "       0.97059712, 0.08861888, 0.99591082, 0.87181722, 0.91515841,\n",
       "       0.19027659, 0.99665018, 0.07240247, 0.03043583, 0.89634432,\n",
       "       0.90184342, 0.99379448, 0.99949607, 0.03321342, 0.9650432 ,\n",
       "       0.00729404, 0.06049145, 0.14197913, 0.01493697, 0.99596241,\n",
       "       0.01214079, 0.6099191 , 0.05134996, 0.07919733, 0.0243011 ,\n",
       "       0.08128971, 0.63807294, 0.99404696, 0.9952034 , 0.99060637,\n",
       "       0.03927534, 0.05953556, 0.15856928, 0.0522099 , 0.98397576,\n",
       "       0.01972526, 0.31212737, 0.99736735, 0.99538796, 0.03319323,\n",
       "       0.01173531, 0.02988997, 0.0148655 , 0.01160539, 0.01706045,\n",
       "       0.26584023, 0.3169024 , 0.42152902, 0.99915373, 0.03498819,\n",
       "       0.02133921, 0.83863408, 0.46572854, 0.99727117, 0.04425121,\n",
       "       0.01674481, 0.03422582, 0.19969564, 0.00719454, 0.05402687,\n",
       "       0.07014211, 0.0481522 , 0.03564882, 0.12119575, 0.38564014,\n",
       "       0.94007319, 0.97005119, 0.87737903, 0.16508708, 0.42619775,\n",
       "       0.099118  , 0.97785315, 0.98216532, 0.9977151 , 0.01179258,\n",
       "       0.10938262, 0.72756752, 0.96541175, 0.15220178, 0.97760441,\n",
       "       0.0125807 , 0.86386491, 0.02460913, 0.07163148, 0.98586294,\n",
       "       0.98300342, 0.9166939 , 0.99858736, 0.12198163, 0.95265408,\n",
       "       0.01057121, 0.99072169, 0.01262076, 0.02100518, 0.07549911,\n",
       "       0.99548666, 0.05640935, 0.04229601, 0.38613199, 0.89746933,\n",
       "       0.03546334, 0.08196263, 0.01881989, 0.95697956, 0.94638576,\n",
       "       0.17847786, 0.02323262, 0.08187922, 0.68459817, 0.03210203,\n",
       "       0.99345895, 0.17082375, 0.50456625, 0.99366404, 0.13770551])"
      ]
     },
     "execution_count": 52,
     "metadata": {},
     "output_type": "execute_result"
    }
   ],
   "source": [
    "y_proba_1"
   ]
  },
  {
   "cell_type": "markdown",
   "metadata": {},
   "source": [
    "CURVA ROC"
   ]
  },
  {
   "cell_type": "code",
   "execution_count": 53,
   "metadata": {},
   "outputs": [],
   "source": [
    "from sklearn.metrics import roc_curve\n",
    "\n",
    "fpr, tpr, thresholds = roc_curve(y_test, y_proba_1)"
   ]
  },
  {
   "cell_type": "code",
   "execution_count": 54,
   "metadata": {},
   "outputs": [
    {
     "data": {
      "image/png": "[encoded data removed]",
      "text/plain": [
       "<Figure size 432x288 with 1 Axes>"
      ]
     },
     "metadata": {
      "needs_background": "light"
     },
     "output_type": "display_data"
    }
   ],
   "source": [
    "plt.title(\"ROC curve\")\n",
    "\n",
    "plt.plot(fpr, tpr)\n",
    "\n",
    "plt.xlabel(\"FPR\")\n",
    "plt.ylabel(\"TPR\")\n",
    "\n",
    "x = np.linspace(0, 1, 100)\n",
    "y = x\n",
    "plt.plot(x, y, ls=\":\", color=\"black\")\n",
    "\n",
    "plt.show()"
   ]
  },
  {
   "cell_type": "markdown",
   "metadata": {},
   "source": [
    "Por fim, pra calcular o AUC-ROC:"
   ]
  },
  {
   "cell_type": "code",
   "execution_count": 56,
   "metadata": {},
   "outputs": [
    {
     "data": {
      "text/plain": [
       "0.9559242127735279"
      ]
     },
     "execution_count": 56,
     "metadata": {},
     "output_type": "execute_result"
    }
   ],
   "source": [
    "from sklearn.metrics import roc_auc_score\n",
    "\n",
    "roc_auc_score(y_test, y_proba_1)"
   ]
  },
  {
   "cell_type": "code",
   "execution_count": null,
   "metadata": {},
   "outputs": [],
   "source": []
  },
  {
   "cell_type": "code",
   "execution_count": null,
   "metadata": {},
   "outputs": [],
   "source": []
  }
 ],
 "metadata": {
  "kernelspec": {
   "display_name": "Python 3",
   "language": "python",
   "name": "python3"
  }
 },
 "nbformat": 4,
 "nbformat_minor": 4
}
