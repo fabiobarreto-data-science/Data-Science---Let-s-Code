{
 "cells": [
  {
   "cell_type": "markdown",
   "metadata": {},
   "source": [
    "Enunciado\n",
    "\n",
    "Carregue o arquivo avocado.csv e, em seguida, siga as instruções abaixo:\n",
    "\n",
    "(a) Obtenha apenas os dados desse dataset que são referentes à região da Califórnia (California), no ano de 2017; e salva-os em um novo dataframe.\n",
    "\n",
    "(b) A partir do dataframe obtido no item (a), obtenha apenas os dados referentes à abacates do tipo convencional; em seguida, salve em um novo dataframe.\n",
    "\n",
    "(c) Utilizando o dataframe salvo no item (b), crie um gráfico de linha que apresente a variação do preço médio do abacate ao longo do ano de 2017 (datas) na região da Califórnia.\n",
    "\n",
    "(d) Utilizando o dataframe salvo no item (a), crie um gráfico de pizza que apresente o percentual do volume total de abacates vendidos para cada tipo: convencional e orgânico."
   ]
  },
  {
   "cell_type": "code",
   "execution_count": 5,
   "metadata": {},
   "outputs": [],
   "source": [
    "import numpy as np\n",
    "import pandas as pd\n",
    "import matplotlib.pyplot as plt\n",
    "%matplotlib inline"
   ]
  },
  {
   "cell_type": "code",
   "execution_count": 64,
   "metadata": {},
   "outputs": [
    {
     "data": {
      "text/html": [
       "<div>\n",
       "<style scoped>\n",
       "    .dataframe tbody tr th:only-of-type {\n",
       "        vertical-align: middle;\n",
       "    }\n",
       "\n",
       "    .dataframe tbody tr th {\n",
       "        vertical-align: top;\n",
       "    }\n",
       "\n",
       "    .dataframe thead th {\n",
       "        text-align: right;\n",
       "    }\n",
       "</style>\n",
       "<table border=\"1\" class=\"dataframe\">\n",
       "  <thead>\n",
       "    <tr style=\"text-align: right;\">\n",
       "      <th></th>\n",
       "      <th>Date</th>\n",
       "      <th>AveragePrice</th>\n",
       "      <th>Total Volume</th>\n",
       "      <th>year</th>\n",
       "      <th>region</th>\n",
       "      <th>type</th>\n",
       "    </tr>\n",
       "  </thead>\n",
       "  <tbody>\n",
       "    <tr>\n",
       "      <th>0</th>\n",
       "      <td>2015-12-27</td>\n",
       "      <td>1.33</td>\n",
       "      <td>64236.62</td>\n",
       "      <td>2015</td>\n",
       "      <td>Albany</td>\n",
       "      <td>conventional</td>\n",
       "    </tr>\n",
       "    <tr>\n",
       "      <th>1</th>\n",
       "      <td>2015-12-20</td>\n",
       "      <td>1.35</td>\n",
       "      <td>54876.98</td>\n",
       "      <td>2015</td>\n",
       "      <td>Albany</td>\n",
       "      <td>conventional</td>\n",
       "    </tr>\n",
       "    <tr>\n",
       "      <th>2</th>\n",
       "      <td>2015-12-13</td>\n",
       "      <td>0.93</td>\n",
       "      <td>118220.22</td>\n",
       "      <td>2015</td>\n",
       "      <td>Albany</td>\n",
       "      <td>conventional</td>\n",
       "    </tr>\n",
       "    <tr>\n",
       "      <th>3</th>\n",
       "      <td>2015-12-06</td>\n",
       "      <td>1.08</td>\n",
       "      <td>78992.15</td>\n",
       "      <td>2015</td>\n",
       "      <td>Albany</td>\n",
       "      <td>conventional</td>\n",
       "    </tr>\n",
       "    <tr>\n",
       "      <th>4</th>\n",
       "      <td>2015-11-29</td>\n",
       "      <td>1.28</td>\n",
       "      <td>51039.60</td>\n",
       "      <td>2015</td>\n",
       "      <td>Albany</td>\n",
       "      <td>conventional</td>\n",
       "    </tr>\n",
       "  </tbody>\n",
       "</table>\n",
       "</div>"
      ],
      "text/plain": [
       "         Date  AveragePrice  Total Volume  year  region          type\n",
       "0  2015-12-27          1.33      64236.62  2015  Albany  conventional\n",
       "1  2015-12-20          1.35      54876.98  2015  Albany  conventional\n",
       "2  2015-12-13          0.93     118220.22  2015  Albany  conventional\n",
       "3  2015-12-06          1.08      78992.15  2015  Albany  conventional\n",
       "4  2015-11-29          1.28      51039.60  2015  Albany  conventional"
      ]
     },
     "execution_count": 64,
     "metadata": {},
     "output_type": "execute_result"
    }
   ],
   "source": [
    "dataset = pd.read_csv(\"C:\\\\Users\\\\Fabio\\\\Desktop\\\\Data Science\\\\Módulo 3\\\\avocado.csv\")\n",
    "df_dataset = pd.DataFrame(dataset)\n",
    "df_dataset.head(5)"
   ]
  },
  {
   "cell_type": "markdown",
   "metadata": {},
   "source": [
    "(a) Obtenha apenas os dados desse dataset que são referentes à região da Califórnia (California), no ano de 2017; e salva-os em um novo dataframe."
   ]
  },
  {
   "cell_type": "code",
   "execution_count": 71,
   "metadata": {},
   "outputs": [
    {
     "data": {
      "text/html": [
       "<div>\n",
       "<style scoped>\n",
       "    .dataframe tbody tr th:only-of-type {\n",
       "        vertical-align: middle;\n",
       "    }\n",
       "\n",
       "    .dataframe tbody tr th {\n",
       "        vertical-align: top;\n",
       "    }\n",
       "\n",
       "    .dataframe thead th {\n",
       "        text-align: right;\n",
       "    }\n",
       "</style>\n",
       "<table border=\"1\" class=\"dataframe\">\n",
       "  <thead>\n",
       "    <tr style=\"text-align: right;\">\n",
       "      <th></th>\n",
       "      <th>Date</th>\n",
       "      <th>AveragePrice</th>\n",
       "      <th>Total Volume</th>\n",
       "      <th>year</th>\n",
       "      <th>region</th>\n",
       "      <th>type</th>\n",
       "    </tr>\n",
       "  </thead>\n",
       "  <tbody>\n",
       "    <tr>\n",
       "      <th>5934</th>\n",
       "      <td>2017-12-31</td>\n",
       "      <td>0.93</td>\n",
       "      <td>7132711.23</td>\n",
       "      <td>2017</td>\n",
       "      <td>California</td>\n",
       "      <td>conventional</td>\n",
       "    </tr>\n",
       "    <tr>\n",
       "      <th>5935</th>\n",
       "      <td>2017-12-24</td>\n",
       "      <td>1.13</td>\n",
       "      <td>5346535.57</td>\n",
       "      <td>2017</td>\n",
       "      <td>California</td>\n",
       "      <td>conventional</td>\n",
       "    </tr>\n",
       "    <tr>\n",
       "      <th>5936</th>\n",
       "      <td>2017-12-17</td>\n",
       "      <td>0.98</td>\n",
       "      <td>6205211.05</td>\n",
       "      <td>2017</td>\n",
       "      <td>California</td>\n",
       "      <td>conventional</td>\n",
       "    </tr>\n",
       "    <tr>\n",
       "      <th>5937</th>\n",
       "      <td>2017-12-10</td>\n",
       "      <td>1.06</td>\n",
       "      <td>5715712.21</td>\n",
       "      <td>2017</td>\n",
       "      <td>California</td>\n",
       "      <td>conventional</td>\n",
       "    </tr>\n",
       "    <tr>\n",
       "      <th>5938</th>\n",
       "      <td>2017-12-03</td>\n",
       "      <td>1.09</td>\n",
       "      <td>5544556.00</td>\n",
       "      <td>2017</td>\n",
       "      <td>California</td>\n",
       "      <td>conventional</td>\n",
       "    </tr>\n",
       "  </tbody>\n",
       "</table>\n",
       "</div>"
      ],
      "text/plain": [
       "            Date  AveragePrice  Total Volume  year      region          type\n",
       "5934  2017-12-31          0.93    7132711.23  2017  California  conventional\n",
       "5935  2017-12-24          1.13    5346535.57  2017  California  conventional\n",
       "5936  2017-12-17          0.98    6205211.05  2017  California  conventional\n",
       "5937  2017-12-10          1.06    5715712.21  2017  California  conventional\n",
       "5938  2017-12-03          1.09    5544556.00  2017  California  conventional"
      ]
     },
     "execution_count": 71,
     "metadata": {},
     "output_type": "execute_result"
    }
   ],
   "source": [
    "data_california_ano2017 = df_dataset[(df_dataset[\"region\"] == \"California\") & (df_dataset[\"year\"] == 2017)]\n",
    "data_california_ano2017.head(5)"
   ]
  },
  {
   "cell_type": "markdown",
   "metadata": {},
   "source": [
    "(b) A partir do dataframe obtido no item (a), obtenha apenas os dados referentes à abacates do tipo convencional; em seguida, salve em um novo dataframe."
   ]
  },
  {
   "cell_type": "code",
   "execution_count": 74,
   "metadata": {},
   "outputs": [
    {
     "data": {
      "text/html": [
       "<div>\n",
       "<style scoped>\n",
       "    .dataframe tbody tr th:only-of-type {\n",
       "        vertical-align: middle;\n",
       "    }\n",
       "\n",
       "    .dataframe tbody tr th {\n",
       "        vertical-align: top;\n",
       "    }\n",
       "\n",
       "    .dataframe thead th {\n",
       "        text-align: right;\n",
       "    }\n",
       "</style>\n",
       "<table border=\"1\" class=\"dataframe\">\n",
       "  <thead>\n",
       "    <tr style=\"text-align: right;\">\n",
       "      <th></th>\n",
       "      <th>Date</th>\n",
       "      <th>AveragePrice</th>\n",
       "      <th>Total Volume</th>\n",
       "      <th>year</th>\n",
       "      <th>region</th>\n",
       "      <th>type</th>\n",
       "    </tr>\n",
       "  </thead>\n",
       "  <tbody>\n",
       "    <tr>\n",
       "      <th>5934</th>\n",
       "      <td>2017-12-31</td>\n",
       "      <td>0.93</td>\n",
       "      <td>7132711.23</td>\n",
       "      <td>2017</td>\n",
       "      <td>California</td>\n",
       "      <td>conventional</td>\n",
       "    </tr>\n",
       "    <tr>\n",
       "      <th>5935</th>\n",
       "      <td>2017-12-24</td>\n",
       "      <td>1.13</td>\n",
       "      <td>5346535.57</td>\n",
       "      <td>2017</td>\n",
       "      <td>California</td>\n",
       "      <td>conventional</td>\n",
       "    </tr>\n",
       "    <tr>\n",
       "      <th>5936</th>\n",
       "      <td>2017-12-17</td>\n",
       "      <td>0.98</td>\n",
       "      <td>6205211.05</td>\n",
       "      <td>2017</td>\n",
       "      <td>California</td>\n",
       "      <td>conventional</td>\n",
       "    </tr>\n",
       "    <tr>\n",
       "      <th>5937</th>\n",
       "      <td>2017-12-10</td>\n",
       "      <td>1.06</td>\n",
       "      <td>5715712.21</td>\n",
       "      <td>2017</td>\n",
       "      <td>California</td>\n",
       "      <td>conventional</td>\n",
       "    </tr>\n",
       "    <tr>\n",
       "      <th>5938</th>\n",
       "      <td>2017-12-03</td>\n",
       "      <td>1.09</td>\n",
       "      <td>5544556.00</td>\n",
       "      <td>2017</td>\n",
       "      <td>California</td>\n",
       "      <td>conventional</td>\n",
       "    </tr>\n",
       "    <tr>\n",
       "      <th>5939</th>\n",
       "      <td>2017-11-26</td>\n",
       "      <td>1.30</td>\n",
       "      <td>4392810.00</td>\n",
       "      <td>2017</td>\n",
       "      <td>California</td>\n",
       "      <td>conventional</td>\n",
       "    </tr>\n",
       "    <tr>\n",
       "      <th>5940</th>\n",
       "      <td>2017-11-19</td>\n",
       "      <td>1.26</td>\n",
       "      <td>4782021.00</td>\n",
       "      <td>2017</td>\n",
       "      <td>California</td>\n",
       "      <td>conventional</td>\n",
       "    </tr>\n",
       "    <tr>\n",
       "      <th>5941</th>\n",
       "      <td>2017-11-12</td>\n",
       "      <td>1.15</td>\n",
       "      <td>5637795.00</td>\n",
       "      <td>2017</td>\n",
       "      <td>California</td>\n",
       "      <td>conventional</td>\n",
       "    </tr>\n",
       "    <tr>\n",
       "      <th>5942</th>\n",
       "      <td>2017-11-05</td>\n",
       "      <td>1.15</td>\n",
       "      <td>5663438.53</td>\n",
       "      <td>2017</td>\n",
       "      <td>California</td>\n",
       "      <td>conventional</td>\n",
       "    </tr>\n",
       "    <tr>\n",
       "      <th>5943</th>\n",
       "      <td>2017-10-29</td>\n",
       "      <td>1.20</td>\n",
       "      <td>5714676.89</td>\n",
       "      <td>2017</td>\n",
       "      <td>California</td>\n",
       "      <td>conventional</td>\n",
       "    </tr>\n",
       "  </tbody>\n",
       "</table>\n",
       "</div>"
      ],
      "text/plain": [
       "            Date  AveragePrice  Total Volume  year      region          type\n",
       "5934  2017-12-31          0.93    7132711.23  2017  California  conventional\n",
       "5935  2017-12-24          1.13    5346535.57  2017  California  conventional\n",
       "5936  2017-12-17          0.98    6205211.05  2017  California  conventional\n",
       "5937  2017-12-10          1.06    5715712.21  2017  California  conventional\n",
       "5938  2017-12-03          1.09    5544556.00  2017  California  conventional\n",
       "5939  2017-11-26          1.30    4392810.00  2017  California  conventional\n",
       "5940  2017-11-19          1.26    4782021.00  2017  California  conventional\n",
       "5941  2017-11-12          1.15    5637795.00  2017  California  conventional\n",
       "5942  2017-11-05          1.15    5663438.53  2017  California  conventional\n",
       "5943  2017-10-29          1.20    5714676.89  2017  California  conventional"
      ]
     },
     "execution_count": 74,
     "metadata": {},
     "output_type": "execute_result"
    }
   ],
   "source": [
    "data_california_ano2017_convencional = data_california_ano2017[data_california_ano2017[\"type\"] == \"conventional\"]\n",
    "data_california_ano2017_convencional.head(10)"
   ]
  },
  {
   "cell_type": "markdown",
   "metadata": {},
   "source": [
    "(c) Utilizando o dataframe salvo no item (b), crie um gráfico de linha que apresente a variação do preço médio do abacate ao longo do ano de 2017 (datas) na região da Califórnia.\n"
   ]
  },
  {
   "cell_type": "code",
   "execution_count": 85,
   "metadata": {},
   "outputs": [
    {
     "data": {
      "image/png": "[encoded data removed]",
      "text/plain": [
       "<Figure size 432x288 with 1 Axes>"
      ]
     },
     "metadata": {
      "needs_background": "light"
     },
     "output_type": "display_data"
    }
   ],
   "source": [
    "valores = data_california_ano2017_convencional[\"AveragePrice\"]\n",
    "plt.plot(valores);\n",
    "plt.title(\"Variação do preço médio\", loc=\"center\");\n",
    "plt.ylabel(\"Preço médio\");\n",
    "plt.xlabel(\"Ano de 2017\")\n",
    "plt.xticks([]);"
   ]
  },
  {
   "cell_type": "markdown",
   "metadata": {},
   "source": [
    "(d) Utilizando o dataframe salvo no item (a), crie um gráfico de pizza que apresente o percentual do volume total de abacates vendidos para cada tipo: convencional e orgânico."
   ]
  },
  {
   "cell_type": "code",
   "execution_count": 111,
   "metadata": {},
   "outputs": [
    {
     "data": {
      "text/html": [
       "<div>\n",
       "<style scoped>\n",
       "    .dataframe tbody tr th:only-of-type {\n",
       "        vertical-align: middle;\n",
       "    }\n",
       "\n",
       "    .dataframe tbody tr th {\n",
       "        vertical-align: top;\n",
       "    }\n",
       "\n",
       "    .dataframe thead th {\n",
       "        text-align: right;\n",
       "    }\n",
       "</style>\n",
       "<table border=\"1\" class=\"dataframe\">\n",
       "  <thead>\n",
       "    <tr style=\"text-align: right;\">\n",
       "      <th></th>\n",
       "      <th>Date</th>\n",
       "      <th>AveragePrice</th>\n",
       "      <th>Total Volume</th>\n",
       "      <th>year</th>\n",
       "      <th>region</th>\n",
       "      <th>type</th>\n",
       "    </tr>\n",
       "  </thead>\n",
       "  <tbody>\n",
       "    <tr>\n",
       "      <th>5934</th>\n",
       "      <td>2017-12-31</td>\n",
       "      <td>0.93</td>\n",
       "      <td>7132711.23</td>\n",
       "      <td>2017</td>\n",
       "      <td>California</td>\n",
       "      <td>conventional</td>\n",
       "    </tr>\n",
       "    <tr>\n",
       "      <th>5935</th>\n",
       "      <td>2017-12-24</td>\n",
       "      <td>1.13</td>\n",
       "      <td>5346535.57</td>\n",
       "      <td>2017</td>\n",
       "      <td>California</td>\n",
       "      <td>conventional</td>\n",
       "    </tr>\n",
       "    <tr>\n",
       "      <th>5936</th>\n",
       "      <td>2017-12-17</td>\n",
       "      <td>0.98</td>\n",
       "      <td>6205211.05</td>\n",
       "      <td>2017</td>\n",
       "      <td>California</td>\n",
       "      <td>conventional</td>\n",
       "    </tr>\n",
       "    <tr>\n",
       "      <th>5937</th>\n",
       "      <td>2017-12-10</td>\n",
       "      <td>1.06</td>\n",
       "      <td>5715712.21</td>\n",
       "      <td>2017</td>\n",
       "      <td>California</td>\n",
       "      <td>conventional</td>\n",
       "    </tr>\n",
       "    <tr>\n",
       "      <th>5938</th>\n",
       "      <td>2017-12-03</td>\n",
       "      <td>1.09</td>\n",
       "      <td>5544556.00</td>\n",
       "      <td>2017</td>\n",
       "      <td>California</td>\n",
       "      <td>conventional</td>\n",
       "    </tr>\n",
       "  </tbody>\n",
       "</table>\n",
       "</div>"
      ],
      "text/plain": [
       "            Date  AveragePrice  Total Volume  year      region          type\n",
       "5934  2017-12-31          0.93    7132711.23  2017  California  conventional\n",
       "5935  2017-12-24          1.13    5346535.57  2017  California  conventional\n",
       "5936  2017-12-17          0.98    6205211.05  2017  California  conventional\n",
       "5937  2017-12-10          1.06    5715712.21  2017  California  conventional\n",
       "5938  2017-12-03          1.09    5544556.00  2017  California  conventional"
      ]
     },
     "execution_count": 111,
     "metadata": {},
     "output_type": "execute_result"
    }
   ],
   "source": [
    "data_california_ano2017.head(5)"
   ]
  },
  {
   "cell_type": "code",
   "execution_count": 110,
   "metadata": {},
   "outputs": [
    {
     "data": {
      "image/png": "[encoded data removed]",
      "text/plain": [
       "<Figure size 432x288 with 1 Axes>"
      ]
     },
     "metadata": {},
     "output_type": "display_data"
    }
   ],
   "source": [
    "data_california_ano2017[\"type\"]\n",
    "valor = data_california_ano2017.groupby(by=[\"type\"]).sum()\n",
    "plt.pie(valor[\"Total Volume\"], labels=valor.index, autopct=\"%1.2f%%\", shadow=True, startangle=90);"
   ]
  }
 ],
 "metadata": {
  "kernelspec": {
   "display_name": "Python 3",
   "language": "python",
   "name": "python3"
  },
  "language_info": {
   "codemirror_mode": {
    "name": "ipython",
    "version": 3
   },
   "file_extension": ".py",
   "mimetype": "text/x-python",
   "name": "python",
   "nbconvert_exporter": "python",
   "pygments_lexer": "ipython3",
   "version": "3.8.5"
  }
 },
 "nbformat": 4,
 "nbformat_minor": 4
}
