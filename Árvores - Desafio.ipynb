{
 "cells": [
  {
   "cell_type": "markdown",
   "metadata": {},
   "source": [
    "Desafio Árvore Binária de Busca\n",
    "1. Exibindo os valores em ordem crescente\n",
    "Dada a ABB abaixo: image.png\n",
    "\n",
    "Crie uma função ou método que exiba os valores do menor até o maior valor. A árvore já está montada para vocês!"
   ]
  },
  {
   "cell_type": "markdown",
   "metadata": {},
   "source": [
    "EXIBINDO OS VALORES EM ORDEM CRESCENTE"
   ]
  },
  {
   "cell_type": "code",
   "execution_count": 24,
   "metadata": {},
   "outputs": [],
   "source": [
    "class ArvoreBinaria():\n",
    "    \n",
    "    def __init__(self, raiz):\n",
    "        self.raiz = raiz\n",
    "    \n",
    "    def inorder(self, no): # Função para colocar na ordem crescente.\n",
    "        if no is not None:\n",
    "            self.inorder(no.left)\n",
    "            print(no.valor)\n",
    "            self.inorder(no.right)\n",
    "        else:\n",
    "            return   # Retorna onde parou na função.\n",
    "\n",
    "class No():\n",
    "    \n",
    "    def __init__(self, valor, left=None, right=None):\n",
    "        self.valor = valor\n",
    "        self.left = left\n",
    "        self.right = right\n",
    "    \n",
    "    ## Magic ou Dunder method\n",
    "    def __repr__(self):\n",
    "        return str(self.valor)"
   ]
  },
  {
   "cell_type": "code",
   "execution_count": 22,
   "metadata": {},
   "outputs": [],
   "source": [
    "No13 = No(13)\n",
    "No7 = No(7)\n",
    "No4 = No(4)\n",
    "No1 = No(1)\n",
    "No14 = No(14, left=No13)\n",
    "No6 = No(6, left=No4, right=No7)\n",
    "No3 = No(3, left=No1, right=No6)\n",
    "No10 = No(10, right=No14)\n",
    "No8 = No(8, left=No3, right=No10)\n"
   ]
  },
  {
   "cell_type": "code",
   "execution_count": 23,
   "metadata": {},
   "outputs": [],
   "source": [
    "minha_arvore = ArvoreBinaria(No8)"
   ]
  },
  {
   "cell_type": "code",
   "execution_count": 25,
   "metadata": {},
   "outputs": [
    {
     "name": "stdout",
     "output_type": "stream",
     "text": [
      "1\n",
      "3\n",
      "4\n",
      "6\n",
      "7\n",
      "8\n",
      "10\n",
      "13\n",
      "14\n"
     ]
    }
   ],
   "source": [
    "minha_arvore.inorder(minha_arvore.raiz)"
   ]
  },
  {
   "cell_type": "markdown",
   "metadata": {},
   "source": [
    "PROCURANDO ELEMENTOS QUE NÃO SÃO NÚMEROS, MAS OBJETOS!!!"
   ]
  },
  {
   "cell_type": "code",
   "execution_count": 14,
   "metadata": {},
   "outputs": [],
   "source": [
    "class Pessoa():\n",
    "    def __init__(self, peso, idade, nome):\n",
    "        self.peso = peso\n",
    "        self.idade = idade\n",
    "        self.nome = nome\n",
    "\n",
    "class No():\n",
    "    def __init__(self, pessoa, left=None, right=None, modo_comparacao=None):\n",
    "        self.pessoa = pessoa\n",
    "        self.left = left\n",
    "        self.right = right\n",
    "        self.modo_comparacao = modo_comparacao\n",
    "\n",
    "class ArvorePessoa():\n",
    "    def __init__(self, modo_comparacao, raiz=None):\n",
    "        self.raiz = raiz\n",
    "        self.modo_comparacao = modo_comparacao\n",
    "    \n",
    "    def busca_pessoa(self):\n",
    "        pass\n",
    "    \n",
    "    def insere_pessoa(self):\n",
    "        pass"
   ]
  },
  {
   "cell_type": "code",
   "execution_count": 25,
   "metadata": {},
   "outputs": [],
   "source": [
    "class Pessoa():\n",
    "    def __init__(self, peso, idade, nome):\n",
    "        self.peso = peso\n",
    "        self.idade = idade\n",
    "        self.nome = nome\n",
    "\n",
    "class No():\n",
    "    def __init__(self, pessoa, left=None, right=None, modo_comparacao=None):\n",
    "        self.pessoa = pessoa\n",
    "        self.left = left\n",
    "        self.right = right\n",
    "        self.modo_comparacao = modo_comparacao\n",
    "    \n",
    "    def __repr__(self):\n",
    "        return self.pessoa.nome\n",
    "    \n",
    "    def __lt__(self, no):    # <\n",
    "        if isinstance(no, No):\n",
    "            if self.modo_comparacao == 'peso':\n",
    "                return self.pessoa.peso < no.pessoa.peso\n",
    "            else:\n",
    "                return self.pessoa.idade < no.pessoa.idade\n",
    "        else:\n",
    "            if self.modo_comparacao == 'peso':\n",
    "                return self.pessoa.peso < no.peso\n",
    "            else:\n",
    "                return self.pessoa.idade < no.idade\n",
    "    \n",
    "    def __le__(self, no):     # <=\n",
    "        if isinstance(no, No):\n",
    "            if self.modo_comparacao == 'peso':\n",
    "                return self.pessoa.peso <= no.pessoa.peso\n",
    "            else:\n",
    "                return self.pessoa.idade <= no.pessoa.idade\n",
    "        else:\n",
    "            if self.modo_comparacao == 'peso':\n",
    "                return self.pessoa.peso <= no.peso\n",
    "            else:\n",
    "                return self.pessoa.idade <= no.idade\n",
    "            \n",
    "    def __ge__(self, no):      # >=\n",
    "        if isinstance(no, No):\n",
    "            if self.modo_comparacao == 'peso':\n",
    "                return self.pessoa.peso >= no.pessoa.peso\n",
    "            else:\n",
    "                return self.pessoa.idade >= no.pessoa.idade\n",
    "        else:\n",
    "            if self.modo_comparacao == 'peso':\n",
    "                return self.pessoa.peso >= no.peso\n",
    "            else:\n",
    "                return self.pessoa.idade >= no.idade\n",
    "    \n",
    "    def __eq__(self, no):  # ==\n",
    "        if isinstance(no, No):\n",
    "            pass\n",
    "        else:\n",
    "            if self.modo_comparacao == 'peso':\n",
    "                return self.pessoa.peso == no.peso and self.pessoa.nome == no.nome\n",
    "            else:\n",
    "                return self.pessoa.nome == no.nome and self.pessoa.idade == no.idade\n",
    "\n",
    "class ArvorePessoa():   # Pode ser tb chamada de árvore binária\n",
    "    def __init__(self, modo_comparacao, raiz=None):\n",
    "        self.raiz = raiz\n",
    "        self.modo_comparacao = modo_comparacao\n",
    "    \n",
    "    def busca_pessoa(self, pessoa):\n",
    "        return self._busca_pessoa(self.raiz, pessoa)\n",
    "    \n",
    "    def _busca_pessoa(self, no, pessoa):\n",
    "        if no is None:\n",
    "            return False\n",
    "        \n",
    "        if no == pessoa:\n",
    "            return True\n",
    "        else:\n",
    "            if no >= pessoa:\n",
    "                return self._busca_pessoa(no.left, pessoa)\n",
    "            else:\n",
    "                return self._busca_pessoa(no.right, pessoa)\n",
    "    \n",
    "    def insere_pessoa(self, no_pessoa):\n",
    "        no_pessoa.modo_comparacao = self.modo_comparacao\n",
    "        if self.raiz is None:\n",
    "            self.raiz = pessoa\n",
    "        \n",
    "        else:\n",
    "            pessoa_antiga = self.raiz\n",
    "            if pessoa <= self.raiz:\n",
    "                pessoa_atual = self.raiz.left\n",
    "            else:\n",
    "                pessoa_atual = self.raiz.right\n",
    "                \n",
    "            while pessoa_atual is not None:\n",
    "                pessoa_antiga = pessoa_atual\n",
    "                if pessoa <= pessoa_atual:\n",
    "                    pessoa_atual = pessoa_atual.left\n",
    "                else:\n",
    "                    pessoa_atual = pessoa_atual.right\n",
    "            \n",
    "            if pessoa <= pessoa_antiga:\n",
    "                pessoa_antiga.left = pessoa\n",
    "            else:\n",
    "                pessoa_antiga.right = pessoa\n",
    "        \n",
    "        return 'Inserido'"
   ]
  },
  {
   "cell_type": "code",
   "execution_count": 30,
   "metadata": {},
   "outputs": [
    {
     "data": {
      "text/plain": [
       "True"
      ]
     },
     "execution_count": 30,
     "metadata": {},
     "output_type": "execute_result"
    }
   ],
   "source": [
    "No(Pessoa(45, 20,'pedro'), modo_comparacao='peso') == Pessoa(45, 15, 'pedro')"
   ]
  },
  {
   "cell_type": "code",
   "execution_count": 31,
   "metadata": {},
   "outputs": [
    {
     "data": {
      "text/plain": [
       "False"
      ]
     },
     "execution_count": 31,
     "metadata": {},
     "output_type": "execute_result"
    }
   ],
   "source": [
    "No(Pessoa(45, 20,'pedro'), modo_comparacao='idade') == Pessoa(45, 15, 'pedro')"
   ]
  },
  {
   "cell_type": "code",
   "execution_count": 32,
   "metadata": {},
   "outputs": [
    {
     "data": {
      "text/plain": [
       "True"
      ]
     },
     "execution_count": 32,
     "metadata": {},
     "output_type": "execute_result"
    }
   ],
   "source": [
    "No(Pessoa(15, 20,'j'), modo_comparacao='peso') > No(Pessoa(13, 20, 'k'), modo_comparacao='peso')"
   ]
  },
  {
   "cell_type": "code",
   "execution_count": 8,
   "metadata": {},
   "outputs": [],
   "source": [
    "pedro = Pessoa(80, 25, 'pedro')\n",
    "andre = Pessoa(150, 30, 'andre')\n",
    "alice = Pessoa(70, 35, 'alice')\n",
    "joao = Pessoa(55, 18, 'joao')\n",
    "maria = Pessoa(50, 17, 'maria')"
   ]
  },
  {
   "cell_type": "code",
   "execution_count": 10,
   "metadata": {},
   "outputs": [],
   "source": [
    "ABB_pessoa = ArvorePessoa(modo_comparacao='peso')"
   ]
  },
  {
   "cell_type": "code",
   "execution_count": 12,
   "metadata": {},
   "outputs": [
    {
     "data": {
      "text/plain": [
       "'Inserido'"
      ]
     },
     "execution_count": 12,
     "metadata": {},
     "output_type": "execute_result"
    }
   ],
   "source": [
    "ABB_pessoa.insere_pessoa(No(pedro))\n",
    "ABB_pessoa.insere_pessoa(No(andre))\n",
    "ABB_pessoa.insere_pessoa(No(alice))\n",
    "ABB_pessoa.insere_pessoa(No(joao))\n",
    "ABB_pessoa.insere_pessoa(No(maria))"
   ]
  },
  {
   "cell_type": "code",
   "execution_count": 34,
   "metadata": {},
   "outputs": [
    {
     "data": {
      "text/plain": [
       "True"
      ]
     },
     "execution_count": 34,
     "metadata": {},
     "output_type": "execute_result"
    }
   ],
   "source": [
    "ABB_pessoa.busca_pessoa(Pessoa(70, 18, 'alice'))"
   ]
  },
  {
   "cell_type": "code",
   "execution_count": 39,
   "metadata": {},
   "outputs": [
    {
     "data": {
      "text/plain": [
       "maria"
      ]
     },
     "execution_count": 39,
     "metadata": {},
     "output_type": "execute_result"
    }
   ],
   "source": [
    "ABB_pessoa.raiz.left.left.left"
   ]
  }
 ],
 "metadata": {
  "kernelspec": {
   "display_name": "Python 3",
   "language": "python",
   "name": "python3"
  },
  "language_info": {
   "codemirror_mode": {
    "name": "ipython",
    "version": 3
   },
   "file_extension": ".py",
   "mimetype": "text/x-python",
   "name": "python",
   "nbconvert_exporter": "python",
   "pygments_lexer": "ipython3",
   "version": "3.8.5"
  }
 },
 "nbformat": 4,
 "nbformat_minor": 4
}
