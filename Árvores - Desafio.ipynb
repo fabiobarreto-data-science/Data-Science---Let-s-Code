{
 "cells": [
  {
   "cell_type": "markdown",
   "metadata": {},
   "source": [
    "Desafio Árvore Binária de Busca\n",
    "1. Exibindo os valores em ordem crescente\n",
    "Dada a ABB abaixo: image.png\n",
    "\n",
    "Crie uma função ou método que exiba os valores do menor até o maior valor. A árvore já está montada para vocês!"
   ]
  },
  {
   "cell_type": "markdown",
   "metadata": {},
   "source": [
    "EXIBINDO OS VALORES EM ORDEM CRESCENTE"
   ]
  },
  {
   "cell_type": "code",
   "execution_count": 24,
   "metadata": {},
   "outputs": [],
   "source": [
    "class ArvoreBinaria():\n",
    "    \n",
    "    def __init__(self, raiz):\n",
    "        self.raiz = raiz\n",
    "    \n",
    "    def inorder(self, no): # Função para colocar na ordem crescente.\n",
    "        if no is not None:\n",
    "            self.inorder(no.left)\n",
    "            print(no.valor)\n",
    "            self.inorder(no.right)\n",
    "        else:\n",
    "            return   # Retorna onde parou na função.\n",
    "\n",
    "class No():\n",
    "    \n",
    "    def __init__(self, valor, left=None, right=None):\n",
    "        self.valor = valor\n",
    "        self.left = left\n",
    "        self.right = right\n",
    "    \n",
    "    ## Magic ou Dunder method\n",
    "    def __repr__(self):\n",
    "        return str(self.valor)"
   ]
  },
  {
   "cell_type": "code",
   "execution_count": 22,
   "metadata": {},
   "outputs": [],
   "source": [
    "No13 = No(13)\n",
    "No7 = No(7)\n",
    "No4 = No(4)\n",
    "No1 = No(1)\n",
    "No14 = No(14, left=No13)\n",
    "No6 = No(6, left=No4, right=No7)\n",
    "No3 = No(3, left=No1, right=No6)\n",
    "No10 = No(10, right=No14)\n",
    "No8 = No(8, left=No3, right=No10)\n"
   ]
  },
  {
   "cell_type": "code",
   "execution_count": 23,
   "metadata": {},
   "outputs": [],
   "source": [
    "minha_arvore = ArvoreBinaria(No8)"
   ]
  },
  {
   "cell_type": "code",
   "execution_count": 25,
   "metadata": {},
   "outputs": [
    {
     "name": "stdout",
     "output_type": "stream",
     "text": [
      "1\n",
      "3\n",
      "4\n",
      "6\n",
      "7\n",
      "8\n",
      "10\n",
      "13\n",
      "14\n"
     ]
    }
   ],
   "source": [
    "minha_arvore.inorder(minha_arvore.raiz)"
   ]
  },
  {
   "cell_type": "markdown",
   "metadata": {},
   "source": [
    "PROCURANDO ELEMENTOS QUE NÃO SÃO NÚMEROS, MAS OBJETOS!!!"
   ]
  },
  {
   "cell_type": "markdown",
   "metadata": {},
   "source": [
    "continua..."
   ]
  }
 ],
 "metadata": {
  "kernelspec": {
   "display_name": "Python 3",
   "language": "python",
   "name": "python3"
  },
  "language_info": {
   "codemirror_mode": {
    "name": "ipython",
    "version": 3
   },
   "file_extension": ".py",
   "mimetype": "text/x-python",
   "name": "python",
   "nbconvert_exporter": "python",
   "pygments_lexer": "ipython3",
   "version": "3.8.5"
  }
 },
 "nbformat": 4,
 "nbformat_minor": 4
}
