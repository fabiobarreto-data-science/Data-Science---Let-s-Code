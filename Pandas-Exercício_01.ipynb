{
 "cells": [
  {
   "cell_type": "markdown",
   "metadata": {},
   "source": [
    "Enunciado\n",
    "Em um concurso público foram contabilizados os números de pessoas inscritas (até a data inicialmente estabelecida para a inscrição) segundo os níveis de escolaridade: fundamental completo, médio completo, superior completo e pós-graduação completa. Segue abaixo a tabela com os valores observados.\n",
    "\n",
    "Nível de escolaridade\tInscritos\n",
    "Fundamental completo\t451\n",
    "Médio completo\t627\n",
    "Superior completo\t292\n",
    "Pós-graduação completa\t95\n",
    "Com base na tabela acima, crie uma Series com esses valores e calcule:\n",
    "\n",
    "(a) O número total de inscritos\n",
    "\n",
    "(b) Número inscritos que possuem, pelo menos, o superior completo.\n",
    "\n",
    "(c) Suponha que a inscrição foi prorrogada e, com isso, foi obtido um número adicional de inscrições: 68, 93, 22 e 0 inscritos a mais em cada uma das categorias de escolaridade apresentados na tabela acima (na mesma ordem). Assim, crie uma nova Series com esses valores.\n",
    "\n",
    "(d) Utilizando as duas Series que você tem, calcule o número total de inscritos após a prorrogação do período de inscrições."
   ]
  },
  {
   "cell_type": "code",
   "execution_count": 2,
   "metadata": {},
   "outputs": [],
   "source": [
    "import pandas as pd"
   ]
  },
  {
   "cell_type": "code",
   "execution_count": 20,
   "metadata": {},
   "outputs": [
    {
     "data": {
      "text/plain": [
       "Fundamental completo    451\n",
       "Médio completo          627\n",
       "Superior completo       292\n",
       "Pós completa             95\n",
       "dtype: int64"
      ]
     },
     "execution_count": 20,
     "metadata": {},
     "output_type": "execute_result"
    }
   ],
   "source": [
    "fundamental_completo = 451\n",
    "medio_completo = 627\n",
    "superior_completo = 292\n",
    "pos_completa = 95\n",
    "index = [\"Fundamental completo\", \"Médio completo\", \"Superior completo\", \"Pós completa\"]\n",
    "data = [451, 627, 292, 95]\n",
    "pessoas_inscritas = pd.Series(index=[\"Fundamental completo\", \"Médio completo\", \"Superior completo\", \"Pós completa\"], data=[451, 627, 292, 95])\n",
    "pessoas_inscritas"
   ]
  },
  {
   "cell_type": "markdown",
   "metadata": {},
   "source": [
    "(a) O número total de inscritos"
   ]
  },
  {
   "cell_type": "code",
   "execution_count": 21,
   "metadata": {},
   "outputs": [
    {
     "data": {
      "text/plain": [
       "1465"
      ]
     },
     "execution_count": 21,
     "metadata": {},
     "output_type": "execute_result"
    }
   ],
   "source": [
    "pessoas_inscritas.sum()"
   ]
  },
  {
   "cell_type": "markdown",
   "metadata": {},
   "source": [
    "(b) Número inscritos que possuem, pelo menos, o superior completo."
   ]
  },
  {
   "cell_type": "code",
   "execution_count": 22,
   "metadata": {},
   "outputs": [
    {
     "data": {
      "text/plain": [
       "387"
      ]
     },
     "execution_count": 22,
     "metadata": {},
     "output_type": "execute_result"
    }
   ],
   "source": [
    "pessoas_inscritas[2:].sum()"
   ]
  },
  {
   "cell_type": "markdown",
   "metadata": {},
   "source": [
    "(c) Suponha que a inscrição foi prorrogada e, com isso, foi obtido um número adicional de inscrições: 68, 93, 22 e 0 inscritos a mais em cada uma das categorias de escolaridade apresentados na tabela acima (na mesma ordem). Assim, crie uma nova Series com esses valores."
   ]
  },
  {
   "cell_type": "code",
   "execution_count": 34,
   "metadata": {},
   "outputs": [
    {
     "data": {
      "text/plain": [
       "Fundamental completo    68\n",
       "Médio completo          93\n",
       "Superior completo       22\n",
       "Pós completa             0\n",
       "dtype: int64"
      ]
     },
     "execution_count": 34,
     "metadata": {},
     "output_type": "execute_result"
    }
   ],
   "source": [
    "fundamental_completo_novos_inscritos = 68\n",
    "medio_completo_novos_inscritos = 93\n",
    "superior_completo_novos_inscritos = 22\n",
    "pos_completa_novos_inscritos = 0\n",
    "index_novos_inscritos=[\"Fundamental completo\", \"Médio completo\", \"Superior completo\", \"Pós completa\"]\n",
    "data_novos_inscritos=[68, 93, 22, 0]\n",
    "pessoas_inscritas_novos_valores = pd.Series(index=index_novos_inscritos, data=data_novos_inscritos)\n",
    "pessoas_inscritas_novos_valores"
   ]
  },
  {
   "cell_type": "markdown",
   "metadata": {},
   "source": [
    "(d) Utilizando as duas Series que você tem, calcule o número total de inscritos após a prorrogação do período de inscrições."
   ]
  },
  {
   "cell_type": "code",
   "execution_count": 32,
   "metadata": {},
   "outputs": [
    {
     "data": {
      "text/plain": [
       "Fundamental completo    519\n",
       "Médio completo          720\n",
       "Superior completo       314\n",
       "Pós completa             95\n",
       "dtype: int64"
      ]
     },
     "execution_count": 32,
     "metadata": {},
     "output_type": "execute_result"
    }
   ],
   "source": [
    "total_pessoas_inscritas = pessoas_inscritas + pessoas_inscritas_novos_valores\n",
    "total_pessoas_inscritas"
   ]
  },
  {
   "cell_type": "code",
   "execution_count": 33,
   "metadata": {},
   "outputs": [
    {
     "data": {
      "text/plain": [
       "1648"
      ]
     },
     "execution_count": 33,
     "metadata": {},
     "output_type": "execute_result"
    }
   ],
   "source": [
    "total_pessoas_inscritas.sum()"
   ]
  }
 ],
 "metadata": {
  "kernelspec": {
   "display_name": "Python 3",
   "language": "python",
   "name": "python3"
  },
  "language_info": {
   "codemirror_mode": {
    "name": "ipython",
    "version": 3
   },
   "file_extension": ".py",
   "mimetype": "text/x-python",
   "name": "python",
   "nbconvert_exporter": "python",
   "pygments_lexer": "ipython3",
   "version": "3.8.5"
  }
 },
 "nbformat": 4,
 "nbformat_minor": 4
}
