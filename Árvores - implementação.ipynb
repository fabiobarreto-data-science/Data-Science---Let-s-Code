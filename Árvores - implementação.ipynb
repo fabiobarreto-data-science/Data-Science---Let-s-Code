{
 "cells": [
  {
   "cell_type": "code",
   "execution_count": 2,
   "metadata": {},
   "outputs": [],
   "source": [
    "class Arvore():\n",
    "    def __init__(self, raiz): # A raiz é um objeto do tipo nó\n",
    "        self.raiz = raiz"
   ]
  },
  {
   "cell_type": "code",
   "execution_count": 3,
   "metadata": {},
   "outputs": [],
   "source": [
    "class No():\n",
    "    def __init__(self, valor, left=None, right=None):\n",
    "        self.valor = valor\n",
    "        self.left = left   # É um objeto do tipo nó\n",
    "        self.right = right  # É um objeto do tipo nó\n",
    "        \n",
    "    def __repr__(self):\n",
    "        return str(self.valor)"
   ]
  },
  {
   "cell_type": "code",
   "execution_count": 4,
   "metadata": {},
   "outputs": [],
   "source": [
    "no86 = No(86)\n",
    "no59 = No(59)\n",
    "no27 = No(27, right=no86)\n",
    "no42 = No(42, left=no59, right=no27)"
   ]
  },
  {
   "cell_type": "code",
   "execution_count": 5,
   "metadata": {},
   "outputs": [
    {
     "data": {
      "text/plain": [
       "42"
      ]
     },
     "execution_count": 5,
     "metadata": {},
     "output_type": "execute_result"
    }
   ],
   "source": [
    "minha_arvore = Arvore(no42)\n",
    "minha_arvore.raiz"
   ]
  },
  {
   "cell_type": "code",
   "execution_count": 6,
   "metadata": {},
   "outputs": [
    {
     "data": {
      "text/plain": [
       "59"
      ]
     },
     "execution_count": 6,
     "metadata": {},
     "output_type": "execute_result"
    }
   ],
   "source": [
    "minha_arvore.raiz.left"
   ]
  },
  {
   "cell_type": "code",
   "execution_count": 7,
   "metadata": {},
   "outputs": [
    {
     "data": {
      "text/plain": [
       "27"
      ]
     },
     "execution_count": 7,
     "metadata": {},
     "output_type": "execute_result"
    }
   ],
   "source": [
    "minha_arvore.raiz.right"
   ]
  },
  {
   "cell_type": "code",
   "execution_count": 8,
   "metadata": {},
   "outputs": [
    {
     "data": {
      "text/plain": [
       "86"
      ]
     },
     "execution_count": 8,
     "metadata": {},
     "output_type": "execute_result"
    }
   ],
   "source": [
    "minha_arvore.raiz.right.right"
   ]
  },
  {
   "cell_type": "markdown",
   "metadata": {},
   "source": [
    "CRIAR ÁRVORE BINÁRIA DE BUSCA"
   ]
  },
  {
   "cell_type": "code",
   "execution_count": 9,
   "metadata": {},
   "outputs": [],
   "source": [
    "no13 = No(13)\n",
    "no7 = No(7, )\n",
    "no4 = No(4)\n",
    "no1 = No(1)\n",
    "no14 = No(14, left=no13)\n",
    "no6 = No(6, left=no4, right=no7)\n",
    "no3 = No(3, left=no1, right=no6)\n",
    "no10 = No(10, right=no14)\n",
    "no8 = No(8, left=no3, right=no10)"
   ]
  },
  {
   "cell_type": "code",
   "execution_count": 10,
   "metadata": {},
   "outputs": [],
   "source": [
    "class Arvore_Binaria():\n",
    "    def __init__(self, raiz): # A raiz é um objeto do tipo nó\n",
    "        self.raiz = raiz\n",
    "        \n",
    "    def busca_valor(self, valor):\n",
    "        return self._busca_valor(self.raiz, valor)\n",
    "        \n",
    "    def _busca_valor(self, no, valor):\n",
    "        if no is None:\n",
    "            return False\n",
    "        if valor == no.valor:\n",
    "            return True\n",
    "        else:\n",
    "            if valor < no.valor:\n",
    "                return self._busca_valor(no.left, valor)\n",
    "            else:\n",
    "                return self._busca_valor(no.right, valor)"
   ]
  },
  {
   "cell_type": "code",
   "execution_count": 11,
   "metadata": {},
   "outputs": [
    {
     "data": {
      "text/plain": [
       "True"
      ]
     },
     "execution_count": 11,
     "metadata": {},
     "output_type": "execute_result"
    }
   ],
   "source": [
    "minha_ABB = Arvore_Binaria(no8)\n",
    "minha_ABB.busca_valor(14)"
   ]
  },
  {
   "cell_type": "markdown",
   "metadata": {},
   "source": [
    "ALTURA DE UMA ÁRVORE"
   ]
  },
  {
   "cell_type": "code",
   "execution_count": 12,
   "metadata": {},
   "outputs": [],
   "source": [
    "class Arvore_Binaria():\n",
    "    def __init__(self, raiz): # A raiz é um objeto do tipo nó\n",
    "        self.raiz = raiz\n",
    "        \n",
    "    def busca_valor(self, valor):\n",
    "        return self._busca_valor(self.raiz, valor)\n",
    "        \n",
    "    def _busca_valor(self, no, valor):\n",
    "        if no is None:\n",
    "            return False\n",
    "        if valor == no.valor:\n",
    "            return True\n",
    "        else:\n",
    "            if valor < no.valor:\n",
    "                return self._busca_valor(no.left, valor)\n",
    "            else:\n",
    "                return self._busca_valor(no.right, valor)\n",
    "    \n",
    "    @property\n",
    "    def altura(self):\n",
    "        return self._altura(self.raiz)\n",
    "    \n",
    "    def _altura(self, no):\n",
    "        if no is None:\n",
    "            return 0\n",
    "        \n",
    "        altura_esquerda = self._altura(no.left)\n",
    "        altura_direita = self._altura(no.right)\n",
    "        return max(altura_esquerda, altura_direita) + 1"
   ]
  },
  {
   "cell_type": "code",
   "execution_count": 13,
   "metadata": {},
   "outputs": [],
   "source": [
    "no13 = No(13)\n",
    "no7 = No(7)\n",
    "no4 = No(4)\n",
    "no1 = No(1)\n",
    "no14 = No(14, left=no13)\n",
    "no6 = No(6, left=no4, right=no7)\n",
    "no3 = No(3, left=no1, right=no6)\n",
    "no10 = No(10, right=no14)\n",
    "no8 = No(8, left=no3, right=no10)"
   ]
  },
  {
   "cell_type": "code",
   "execution_count": 14,
   "metadata": {},
   "outputs": [],
   "source": [
    "minha_ABB2 = Arvore_Binaria(no8)"
   ]
  },
  {
   "cell_type": "code",
   "execution_count": 15,
   "metadata": {},
   "outputs": [
    {
     "data": {
      "text/plain": [
       "4"
      ]
     },
     "execution_count": 15,
     "metadata": {},
     "output_type": "execute_result"
    }
   ],
   "source": [
    "minha_ABB2.altura"
   ]
  },
  {
   "cell_type": "markdown",
   "metadata": {},
   "source": [
    "INSERÇÃO SIMPLES"
   ]
  },
  {
   "cell_type": "code",
   "execution_count": 69,
   "metadata": {},
   "outputs": [],
   "source": [
    "class Arvore_Binaria():\n",
    "    def __init__(self, raiz=None): # A raiz é um objeto do tipo nó\n",
    "        self.raiz = raiz\n",
    "        \n",
    "    def busca_valor(self, valor):\n",
    "        return self._busca_valor(self.raiz, valor)\n",
    "        \n",
    "    def _busca_valor(self, no, valor):\n",
    "        if no is None:\n",
    "            return False\n",
    "        if valor == no.valor:\n",
    "            return True\n",
    "        else:\n",
    "            if valor < no.valor:\n",
    "                return self._busca_valor(no.left, valor)\n",
    "            else:\n",
    "                return self._busca_valor(no.right, valor)\n",
    "    \n",
    "    @property\n",
    "    def altura(self):\n",
    "        return self._altura(self.raiz)\n",
    "    \n",
    "    def _altura(self, no):\n",
    "        if no is None:\n",
    "            return 0\n",
    "        \n",
    "        altura_esquerda = self._altura(no.left)\n",
    "        altura_direita = self._altura(no.right)\n",
    "        return max(altura_esquerda, altura_direita) + 1\n",
    "    \n",
    "    def inserir(self, no_inserido):\n",
    "        if self.raiz is None:\n",
    "            self.raiz = no_inserido\n",
    "        else:\n",
    "            no_antigo = self.raiz\n",
    "            if no_inserido.valor < no_antigo.valor:\n",
    "                no_atual = no_antigo.left\n",
    "            else:\n",
    "                no_atual = no_antigo.right\n",
    "            while no_atual is not None:\n",
    "                no_antigo = no_atual\n",
    "                if no_inserido.valor < no_atual.valor:\n",
    "                    no_atual = no_atual.left\n",
    "                else:\n",
    "                    no_atual = no_atual.right\n",
    "            if no_inserido.valor < no_antigo.valor:\n",
    "                no_antigo.left = no_inserido\n",
    "            else:\n",
    "                no_antigo.right = no_inserido\n",
    "        return \"Inserido\"\n",
    "        "
   ]
  },
  {
   "cell_type": "code",
   "execution_count": 70,
   "metadata": {},
   "outputs": [],
   "source": [
    "no13 = No(13)\n",
    "no7 = No(7)\n",
    "no4 = No(4)\n",
    "no1 = No(1)\n",
    "no14 = No(14)\n",
    "no6 = No(6)\n",
    "no3 = No(3)\n",
    "no10 = No(10)\n",
    "no8 = No(8)\n"
   ]
  },
  {
   "cell_type": "code",
   "execution_count": 71,
   "metadata": {},
   "outputs": [],
   "source": [
    "minha_ABB3 = Arvore_Binaria()"
   ]
  },
  {
   "cell_type": "code",
   "execution_count": 72,
   "metadata": {},
   "outputs": [],
   "source": [
    "minha_ABB3.raiz #Retornou vazio, pois ainda vamos construir a árvore."
   ]
  },
  {
   "cell_type": "code",
   "execution_count": 73,
   "metadata": {},
   "outputs": [
    {
     "data": {
      "text/plain": [
       "'Inserido'"
      ]
     },
     "execution_count": 73,
     "metadata": {},
     "output_type": "execute_result"
    }
   ],
   "source": [
    "minha_ABB3.inserir(no8)"
   ]
  },
  {
   "cell_type": "code",
   "execution_count": 74,
   "metadata": {},
   "outputs": [
    {
     "data": {
      "text/plain": [
       "8"
      ]
     },
     "execution_count": 74,
     "metadata": {},
     "output_type": "execute_result"
    }
   ],
   "source": [
    "minha_ABB3.raiz"
   ]
  },
  {
   "cell_type": "code",
   "execution_count": 75,
   "metadata": {},
   "outputs": [
    {
     "data": {
      "text/plain": [
       "'Inserido'"
      ]
     },
     "execution_count": 75,
     "metadata": {},
     "output_type": "execute_result"
    }
   ],
   "source": [
    "minha_ABB3.inserir(no3)"
   ]
  },
  {
   "cell_type": "code",
   "execution_count": 76,
   "metadata": {},
   "outputs": [
    {
     "data": {
      "text/plain": [
       "3"
      ]
     },
     "execution_count": 76,
     "metadata": {},
     "output_type": "execute_result"
    }
   ],
   "source": [
    "minha_ABB3.raiz.left"
   ]
  },
  {
   "cell_type": "code",
   "execution_count": 77,
   "metadata": {},
   "outputs": [
    {
     "data": {
      "text/plain": [
       "'Inserido'"
      ]
     },
     "execution_count": 77,
     "metadata": {},
     "output_type": "execute_result"
    }
   ],
   "source": [
    "minha_ABB3.inserir(no6)"
   ]
  },
  {
   "cell_type": "code",
   "execution_count": 78,
   "metadata": {},
   "outputs": [
    {
     "data": {
      "text/plain": [
       "6"
      ]
     },
     "execution_count": 78,
     "metadata": {},
     "output_type": "execute_result"
    }
   ],
   "source": [
    "minha_ABB3.raiz.left.right"
   ]
  },
  {
   "cell_type": "code",
   "execution_count": 79,
   "metadata": {},
   "outputs": [
    {
     "data": {
      "text/plain": [
       "'Inserido'"
      ]
     },
     "execution_count": 79,
     "metadata": {},
     "output_type": "execute_result"
    }
   ],
   "source": [
    "minha_ABB3.inserir(no4)"
   ]
  },
  {
   "cell_type": "code",
   "execution_count": 81,
   "metadata": {},
   "outputs": [
    {
     "data": {
      "text/plain": [
       "'Inserido'"
      ]
     },
     "execution_count": 81,
     "metadata": {},
     "output_type": "execute_result"
    }
   ],
   "source": [
    "minha_ABB3.inserir(no7)"
   ]
  },
  {
   "cell_type": "code",
   "execution_count": 83,
   "metadata": {},
   "outputs": [
    {
     "data": {
      "text/plain": [
       "7"
      ]
     },
     "execution_count": 83,
     "metadata": {},
     "output_type": "execute_result"
    }
   ],
   "source": [
    "minha_ABB3.raiz.left.right.right"
   ]
  },
  {
   "cell_type": "code",
   "execution_count": 85,
   "metadata": {},
   "outputs": [
    {
     "data": {
      "text/plain": [
       "4"
      ]
     },
     "execution_count": 85,
     "metadata": {},
     "output_type": "execute_result"
    }
   ],
   "source": [
    "minha_ABB3.raiz.left.right.left"
   ]
  },
  {
   "cell_type": "code",
   "execution_count": 87,
   "metadata": {},
   "outputs": [
    {
     "data": {
      "text/plain": [
       "'Inserido'"
      ]
     },
     "execution_count": 87,
     "metadata": {},
     "output_type": "execute_result"
    }
   ],
   "source": [
    "minha_ABB3.inserir(no10)\n",
    "minha_ABB3.inserir(no14)\n",
    "minha_ABB3.inserir(no13)"
   ]
  },
  {
   "cell_type": "code",
   "execution_count": 92,
   "metadata": {},
   "outputs": [
    {
     "data": {
      "text/plain": [
       "13"
      ]
     },
     "execution_count": 92,
     "metadata": {},
     "output_type": "execute_result"
    }
   ],
   "source": [
    "minha_ABB3.raiz.right.right.left"
   ]
  },
  {
   "cell_type": "markdown",
   "metadata": {},
   "source": [
    "CONSTRUINDO ÁRVORE COM DICIONÁRIO"
   ]
  },
  {
   "cell_type": "code",
   "execution_count": 102,
   "metadata": {},
   "outputs": [],
   "source": [
    "tree_dict = {\n",
    "    \"root\":{\"value\": 10, \"left\":{\"value\": 5,\"left\": 20, \"right\": None},\"right\":{\"value\": 20, \"left\": None,\"right\": None}}}"
   ]
  },
  {
   "cell_type": "code",
   "execution_count": 105,
   "metadata": {},
   "outputs": [
    {
     "data": {
      "text/plain": [
       "20"
      ]
     },
     "execution_count": 105,
     "metadata": {},
     "output_type": "execute_result"
    }
   ],
   "source": [
    "tree_dict[\"root\"][\"left\"][\"left\"]"
   ]
  },
  {
   "cell_type": "markdown",
   "metadata": {},
   "source": [
    "ÁRVORE COMO UMA LISTA"
   ]
  },
  {
   "cell_type": "code",
   "execution_count": 118,
   "metadata": {},
   "outputs": [],
   "source": [
    "tree_list = [10, [5, None, None], [20, None, None]]"
   ]
  },
  {
   "cell_type": "code",
   "execution_count": 120,
   "metadata": {},
   "outputs": [
    {
     "data": {
      "text/plain": [
       "20"
      ]
     },
     "execution_count": 120,
     "metadata": {},
     "output_type": "execute_result"
    }
   ],
   "source": [
    "tree_list[2][0]"
   ]
  }
 ],
 "metadata": {
  "kernelspec": {
   "display_name": "Python 3",
   "language": "python",
   "name": "python3"
  },
  "language_info": {
   "codemirror_mode": {
    "name": "ipython",
    "version": 3
   },
   "file_extension": ".py",
   "mimetype": "text/x-python",
   "name": "python",
   "nbconvert_exporter": "python",
   "pygments_lexer": "ipython3",
   "version": "3.8.5"
  }
 },
 "nbformat": 4,
 "nbformat_minor": 4
}
